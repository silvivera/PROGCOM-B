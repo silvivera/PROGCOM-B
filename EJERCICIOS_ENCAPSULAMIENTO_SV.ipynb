{
  "nbformat": 4,
  "nbformat_minor": 0,
  "metadata": {
    "colab": {
      "provenance": []
    },
    "kernelspec": {
      "name": "python3",
      "display_name": "Python 3"
    },
    "language_info": {
      "name": "python"
    }
  },
  "cells": [
    {
      "cell_type": "markdown",
      "source": [
        "Silvia Juliana Vera Lizarazo\n"
      ],
      "metadata": {
        "id": "ATMKFPKRH8rs"
      }
    },
    {
      "cell_type": "markdown",
      "source": [
        "#EJERCICIOS ENCAPSULAMIENTO"
      ],
      "metadata": {
        "id": "hu2EVOu2IB3L"
      }
    },
    {
      "cell_type": "markdown",
      "source": [
        "##Crea una clase Estudiante que represente a un estudiante con un nombre (privado) y una nota (privada, entre 0 y 100). Implementa métodos para obtener el nombre y la nota, y un setter para la nota que valide que esté en el rango permitido. Incluye un atributo público para el número de identificación del estudiante."
      ],
      "metadata": {
        "id": "-7nm0wyeIPJj"
      }
    },
    {
      "cell_type": "code",
      "source": [
        "#phyton\n",
        "class Estudiante:\n",
        "    def __init__(self, nombre, nota, id_estudiante):\n",
        "        self.__nombre = nombre\n",
        "        self.__nota = nota if 0 <= nota <= 100 else 0\n",
        "        self.id_estudiante = id_estudiante\n",
        "\n",
        "    def get_nombre(self):\n",
        "        return self.__nombre\n",
        "\n",
        "    def get_nota(self):\n",
        "        return self.__nota\n",
        "\n",
        "    def set_nota(self, nota):\n",
        "        if 0 <= nota <= 100:\n",
        "            self.__nota = nota\n",
        "\n",
        "# Test\n",
        "if __name__ == \"__main__\":\n",
        "    estudiante = Estudiante(\"Juan\", 85, \"E001\")\n",
        "    print(f\"Nombre: {estudiante.get_nombre()}\")\n",
        "    print(f\"Nota: {estudiante.get_nota()}\")\n",
        "    estudiante.set_nota(90)\n",
        "    print(f\"Nueva nota: {estudiante.get_nota()}\")"
      ],
      "metadata": {
        "colab": {
          "base_uri": "https://localhost:8080/"
        },
        "id": "Ui9vH2WxLkHv",
        "outputId": "0058f071-1a1c-49d8-a27d-a2be239b6565"
      },
      "execution_count": 20,
      "outputs": [
        {
          "output_type": "stream",
          "name": "stdout",
          "text": [
            "Nombre: Juan\n",
            "Nota: 85\n",
            "Nueva nota: 90\n"
          ]
        }
      ]
    },
    {
      "cell_type": "code",
      "source": [
        "#java\n",
        "public class Estudiante {\n",
        "    private String nombre;\n",
        "    private int nota;\n",
        "    public String numeroIdentificacion;\n",
        "\n",
        "    public Estudiante(String nombre, int nota, String numeroIdentificacion) {\n",
        "        this.nombre = nombre;\n",
        "        this.numeroIdentificacion = numeroIdentificacion;\n",
        "        setNota(nota);\n",
        "    }\n",
        "\n",
        "    public String getNombre() {\n",
        "        return nombre;\n",
        "    }\n",
        "\n",
        "    public int getNota() {\n",
        "        return nota;\n",
        "    }\n",
        "\n",
        "    public void setNota(int nota) {\n",
        "        if (nota >= 0 && nota <= 100) {\n",
        "            this.nota = nota;\n",
        "        } else {\n",
        "            throw new IllegalArgumentException(\"La nota debe estar entre 0 y 100\");\n",
        "        }\n",
        "    }\n",
        "}"
      ],
      "metadata": {
        "id": "z5gWUgIqLnQX"
      },
      "execution_count": null,
      "outputs": []
    },
    {
      "cell_type": "markdown",
      "source": [
        "##Crea una clase CuentaBancaria con un saldo (privado) y un titular (privado). Implementa métodos para depositar y retirar dinero, asegurándote de que el saldo no sea negativo. Incluye un atributo protegido para el número de cuenta y un getter para el titular."
      ],
      "metadata": {
        "id": "CdvVJGarLsRX"
      }
    },
    {
      "cell_type": "code",
      "source": [
        "#phyton\n",
        "class CuentaBancaria:\n",
        "    def __init__(self, titular, saldo, numero_cuenta):\n",
        "        self.__titular = titular\n",
        "        self.__saldo = saldo if saldo >= 0 else 0\n",
        "        self._numero_cuenta = numero_cuenta\n",
        "\n",
        "    def get_titular(self):\n",
        "        return self.__titular\n",
        "\n",
        "    def get_saldo(self):\n",
        "        return self.__saldo\n",
        "\n",
        "    def depositar(self, monto):\n",
        "        if monto > 0:\n",
        "            self.__saldo += monto\n",
        "\n",
        "    def retirar(self, monto):\n",
        "        if monto > 0 and self.__saldo >= monto:\n",
        "            self.__saldo -= monto\n",
        "\n",
        "# Test\n",
        "if __name__ == \"__main__\":\n",
        "    cuenta = CuentaBancaria(\"Ana\", 1000, \"123456\")\n",
        "    print(f\"Titular: {cuenta.get_titular()}\")\n",
        "    print(f\"Saldo inicial: {cuenta.get_saldo()}\")\n",
        "    cuenta.depositar(500)\n",
        "    cuenta.retirar(200)\n",
        "    print(f\"Saldo final: {cuenta.get_saldo()}\")"
      ],
      "metadata": {
        "colab": {
          "base_uri": "https://localhost:8080/"
        },
        "id": "XfXoZzfpLvsP",
        "outputId": "35d0c91c-01f0-43a0-e6f9-ac37a90582e8"
      },
      "execution_count": 21,
      "outputs": [
        {
          "output_type": "stream",
          "name": "stdout",
          "text": [
            "Titular: Ana\n",
            "Saldo inicial: 1000\n",
            "Saldo final: 1300\n"
          ]
        }
      ]
    },
    {
      "cell_type": "code",
      "source": [
        "#java\n",
        "public class CuentaBancaria {\n",
        "    private String titular;\n",
        "    private double saldo;\n",
        "    protected String numeroCuenta;\n",
        "\n",
        "    public CuentaBancaria(String titular, double saldo, String numeroCuenta) {\n",
        "        this.titular = titular;\n",
        "        this.saldo = (saldo >= 0) ? saldo : 0;\n",
        "        this.numeroCuenta = numeroCuenta;\n",
        "    }\n",
        "\n",
        "    public String getTitular() {\n",
        "        return titular;\n",
        "    }\n",
        "\n",
        "    public double getSaldo() {\n",
        "        return saldo;\n",
        "    }\n",
        "\n",
        "    public void depositar(double monto) {\n",
        "        if (monto > 0) {\n",
        "            saldo += monto;\n",
        "        }\n",
        "    }\n",
        "\n",
        "    public void retirar(double monto) {\n",
        "        if (monto > 0 && saldo >= monto) {\n",
        "            saldo -= monto;\n",
        "        }\n",
        "    }\n",
        "}"
      ],
      "metadata": {
        "id": "9GoQhZEFL1oC"
      },
      "execution_count": null,
      "outputs": []
    },
    {
      "cell_type": "markdown",
      "source": [
        "##Crea una clase Libro con un título (privado), un autor (privado) y un número de páginas (protegido). Implementa getters para el título y el autor, y un setter para el número de páginas que valide que sea positivo. Incluye un atributo público para el ISBN."
      ],
      "metadata": {
        "id": "9sKMKiuBL4uy"
      }
    },
    {
      "cell_type": "code",
      "source": [
        "#phyton\n",
        "class Libro:\n",
        "    def __init__(self, titulo, autor, paginas, isbn):\n",
        "        self.__titulo = titulo\n",
        "        self.__autor = autor\n",
        "        self._paginas = paginas if paginas > 0 else 1\n",
        "        self.isbn = isbn\n",
        "\n",
        "    def get_titulo(self):\n",
        "        return self.__titulo\n",
        "\n",
        "    def get_autor(self):\n",
        "        return self.__autor\n",
        "\n",
        "    def set_paginas(self, paginas):\n",
        "        if paginas > 0:\n",
        "            self._paginas = paginas\n",
        "\n",
        "# Test\n",
        "if __name__ == \"__main__\":\n",
        "    libro = Libro(\"Cien Años\", \"García Márquez\", 400, \"ISBN123\")\n",
        "    print(f\"Título: {libro.get_titulo()}\")\n",
        "    print(f\"Autor: {libro.get_autor()}\")\n",
        "    libro.set_paginas(450)\n",
        "    print(f\"Páginas: {libro._paginas}\")"
      ],
      "metadata": {
        "colab": {
          "base_uri": "https://localhost:8080/"
        },
        "id": "y3WtHPlVL7JL",
        "outputId": "d882e789-5083-4722-8327-ae7854cd28ad"
      },
      "execution_count": 23,
      "outputs": [
        {
          "output_type": "stream",
          "name": "stdout",
          "text": [
            "Título: Cien Años\n",
            "Autor: García Márquez\n",
            "Páginas: 450\n"
          ]
        }
      ]
    },
    {
      "cell_type": "code",
      "source": [
        "#java\n",
        "public class Libro {\n",
        "    private String titulo;\n",
        "    private String autor;\n",
        "    protected int paginas;\n",
        "    public String isbn;\n",
        "\n",
        "    public Libro(String titulo, String autor, int paginas, String isbn) {\n",
        "        this.titulo = titulo;\n",
        "        this.autor = autor;\n",
        "        this.paginas = (paginas > 0) ? paginas : 1;\n",
        "        this.isbn = isbn;\n",
        "    }\n",
        "\n",
        "    public String getTitulo() {\n",
        "        return titulo;\n",
        "    }\n",
        "\n",
        "    public String getAutor() {\n",
        "        return autor;\n",
        "    }\n",
        "\n",
        "    public void setPaginas(int paginas) {\n",
        "        if (paginas > 0) {\n",
        "            this.paginas = paginas;\n",
        "        }\n",
        "    }\n",
        "}"
      ],
      "metadata": {
        "id": "j4PXjntmMF3w"
      },
      "execution_count": null,
      "outputs": []
    },
    {
      "cell_type": "markdown",
      "source": [
        "##Crea una clase Vehiculo con una marca (privada) y una velocidad actual (privada, no negativa). Implementa métodos para acelerar (aumentar velocidad) y frenar (disminuir velocidad), con validaciones para no exceder una velocidad máxima de 200. Incluye un atributo público para el tipo de vehículo (por ejemplo, \"auto\", \"moto\")."
      ],
      "metadata": {
        "id": "CGaHJRI9MHsT"
      }
    },
    {
      "cell_type": "code",
      "source": [
        "#phyton\n",
        "class Vehiculo:\n",
        "    def __init__(self, marca, velocidad, tipo_vehiculo):\n",
        "        self.__marca = marca\n",
        "        self.__velocidad = velocidad if velocidad >= 0 else 0\n",
        "        self.tipo_vehiculo = tipo_vehiculo\n",
        "\n",
        "    def get_velocidad(self):\n",
        "        return self.__velocidad\n",
        "\n",
        "    def acelerar(self, incremento):\n",
        "        if incremento > 0 and self.__velocidad + incremento <= 200:\n",
        "            self.__velocidad += incremento\n",
        "\n",
        "    def frenar(self, decremento):\n",
        "        if decremento > 0 and self.__velocidad - decremento >= 0:\n",
        "            self.__velocidad -= decremento\n",
        "\n",
        "# Test\n",
        "if __name__ == \"__main__\":\n",
        "    vehiculo = Vehiculo(\"Toyota\", 50, \"auto\")\n",
        "    print(f\"Tipo: {vehiculo.tipo_vehiculo}\")\n",
        "    print(f\"Velocidad inicial: {vehiculo.get_velocidad()}\")\n",
        "    vehiculo.acelerar(20)\n",
        "    vehiculo.frenar(10)\n",
        "    print(f\"Velocidad final: {vehiculo.get_velocidad()}\")"
      ],
      "metadata": {
        "colab": {
          "base_uri": "https://localhost:8080/"
        },
        "id": "185QAsuCMMCP",
        "outputId": "79af0c99-45cf-4304-a562-50be8699eca5"
      },
      "execution_count": 24,
      "outputs": [
        {
          "output_type": "stream",
          "name": "stdout",
          "text": [
            "Tipo: auto\n",
            "Velocidad inicial: 50\n",
            "Velocidad final: 60\n"
          ]
        }
      ]
    },
    {
      "cell_type": "code",
      "source": [
        "#java\n",
        "public class Vehiculo {\n",
        "    private String marca;\n",
        "    private int velocidad;\n",
        "    public String tipoVehiculo;\n",
        "\n",
        "    public Vehiculo(String marca, int velocidad, String tipoVehiculo) {\n",
        "        this.marca = marca;\n",
        "        this.velocidad = (velocidad >= 0) ? velocidad : 0;\n",
        "        this.tipoVehiculo = tipoVehiculo;\n",
        "    }\n",
        "\n",
        "    public int getVelocidad() {\n",
        "        return velocidad;\n",
        "    }\n",
        "\n",
        "    public void acelerar(int incremento) {\n",
        "        if (incremento > 0 && velocidad + incremento <= 200) {\n",
        "            velocidad += incremento;\n",
        "        }\n",
        "    }\n",
        "\n",
        "    public void frenar(int decremento) {\n",
        "        if (decremento > 0 && velocidad - decremento >= 0) {\n",
        "            velocidad -= decremento;\n",
        "        }\n",
        "    }\n",
        "}"
      ],
      "metadata": {
        "id": "6glmProVMQ2P"
      },
      "execution_count": null,
      "outputs": []
    },
    {
      "cell_type": "markdown",
      "source": [
        "##Crea una clase Empleado con un nombre (privado), un salario (privado, no menor a 0) y un departamento (protegido). Implementa getters para todos los atributos y un setter para el salario con validación. Incluye un atributo público para el ID del empleado."
      ],
      "metadata": {
        "id": "7MXZXomnMYrR"
      }
    },
    {
      "cell_type": "code",
      "source": [
        "#phyton\n",
        "class Empleado:\n",
        "    def __init__(self, nombre, salario, departamento, id_empleado):\n",
        "        self.__nombre = nombre\n",
        "        self.__salario = salario if salario >= 0 else 0\n",
        "        self._departamento = departamento\n",
        "        self.id_empleado = id_empleado\n",
        "\n",
        "    def get_nombre(self):\n",
        "        return self.__nombre\n",
        "\n",
        "    def get_salario(self):\n",
        "        return self.__salario\n",
        "\n",
        "    def get_departamento(self):\n",
        "        return self._departamento\n",
        "\n",
        "    def set_salario(self, salario):\n",
        "        if salario >= 0:\n",
        "            self.__salario = salario\n",
        "\n",
        "# Test\n",
        "if __name__ == \"__main__\":\n",
        "    empleado = Empleado(\"Carlos\", 50000, \"IT\", \"E123\")\n",
        "    print(f\"Nombre: {empleado.get_nombre()}\")\n",
        "    print(f\"Salario: {empleado.get_salario()}\")\n",
        "    empleado.set_salario(60000)\n",
        "    print(f\"Nuevo salario: {empleado.get_salario()}\")"
      ],
      "metadata": {
        "colab": {
          "base_uri": "https://localhost:8080/"
        },
        "id": "48LC7ncQMbBz",
        "outputId": "5f221bb6-ea3e-49e6-a341-fae5fb1ce104"
      },
      "execution_count": 25,
      "outputs": [
        {
          "output_type": "stream",
          "name": "stdout",
          "text": [
            "Nombre: Carlos\n",
            "Salario: 50000\n",
            "Nuevo salario: 60000\n"
          ]
        }
      ]
    },
    {
      "cell_type": "code",
      "source": [
        "#java\n",
        "public class Empleado {\n",
        "    private String nombre;\n",
        "    private double salario;\n",
        "    protected String departamento;\n",
        "    public String idEmpleado;\n",
        "\n",
        "    public Empleado(String nombre, double salario, String departamento, String idEmpleado) {\n",
        "        this.nombre = nombre;\n",
        "        this.salario = (salario >= 0) ? salario : 0;\n",
        "        this.departamento = departamento;\n",
        "        this.idEmpleado = idEmpleado;\n",
        "    }\n",
        "\n",
        "    public String getNombre() {\n",
        "        return nombre;\n",
        "    }\n",
        "\n",
        "    public double getSalario() {\n",
        "        return salario;\n",
        "    }\n",
        "\n",
        "    public String getDepartamento() {\n",
        "        return departamento;\n",
        "    }\n",
        "\n",
        "    public void setSalario(double salario) {\n",
        "        if (salario >= 0) {\n",
        "            this.salario = salario;\n",
        "        }\n",
        "    }\n",
        "}"
      ],
      "metadata": {
        "id": "A3PfQgxuMjk_"
      },
      "execution_count": null,
      "outputs": []
    },
    {
      "cell_type": "markdown",
      "source": [
        "##Crea una clase Producto con un nombre (privado), un precio (privado, positivo) y una categoría (protegida). Implementa métodos para obtener el nombre y el precio, y un setter para el precio que valide que sea positivo. Incluye un atributo público para el código del producto."
      ],
      "metadata": {
        "id": "Q0JBDU_sMoDu"
      }
    },
    {
      "cell_type": "code",
      "source": [
        "#phyton\n",
        "class Producto:\n",
        "    def __init__(self, nombre, precio, categoria, codigo):\n",
        "        self.__nombre = nombre\n",
        "        self.__precio = precio if precio > 0 else 1\n",
        "        self._categoria = categoria\n",
        "        self.codigo = codigo\n",
        "\n",
        "    def get_nombre(self):\n",
        "        return self.__nombre\n",
        "\n",
        "    def get_precio(self):\n",
        "        return self.__precio\n",
        "\n",
        "    def set_precio(self, precio):\n",
        "        if precio > 0:\n",
        "            self.__precio = precio\n",
        "\n",
        "# Test\n",
        "if __name__ == \"__main__\":\n",
        "    producto = Producto(\"Laptop\", 1000, \"Electrónica\", \"P001\")\n",
        "    print(f\"Nombre: {producto.get_nombre()}\")\n",
        "    print(f\"Precio: {producto.get_precio()}\")\n",
        "    producto.set_precio(1200)\n",
        "    print(f\"Nuevo precio: {producto.get_precio()}\")"
      ],
      "metadata": {
        "colab": {
          "base_uri": "https://localhost:8080/"
        },
        "id": "qtl5sebaMs5_",
        "outputId": "918f5af5-ccc2-4cfe-bc1e-0b92df564c3b"
      },
      "execution_count": 26,
      "outputs": [
        {
          "output_type": "stream",
          "name": "stdout",
          "text": [
            "Nombre: Laptop\n",
            "Precio: 1000\n",
            "Nuevo precio: 1200\n"
          ]
        }
      ]
    },
    {
      "cell_type": "code",
      "source": [
        "#java\n",
        "public class Producto {\n",
        "    private String nombre;\n",
        "    private double precio;\n",
        "    protected String categoria;\n",
        "    public String codigo;\n",
        "\n",
        "    public Producto(String nombre, double precio, String categoria, String codigo) {\n",
        "        this.nombre = nombre;\n",
        "        this.precio = (precio > 0) ? precio : 1;\n",
        "        this.categoria = categoria;\n",
        "        this.codigo = codigo;\n",
        "    }\n",
        "\n",
        "    public String getNombre() {\n",
        "        return nombre;\n",
        "    }\n",
        "\n",
        "    public double getPrecio() {\n",
        "        return precio;\n",
        "    }\n",
        "\n",
        "    public void setPrecio(double precio) {\n",
        "        if (precio > 0) {\n",
        "            this.precio = precio;\n",
        "        }\n",
        "    }\n",
        "}"
      ],
      "metadata": {
        "id": "Ryk_flyBMye2"
      },
      "execution_count": null,
      "outputs": []
    },
    {
      "cell_type": "markdown",
      "source": [
        "##Crea una clase Telefono con un número (privado), una marca (privada) y un nivel de batería (protegido, entre 0 y 100). Implementa métodos para cargar la batería (aumentar nivel) y usar el teléfono (disminuir nivel). Incluye un atributo público para el modelo."
      ],
      "metadata": {
        "id": "qD41e4YyM1j2"
      }
    },
    {
      "cell_type": "code",
      "source": [
        "#phyton\n",
        "class Telefono:\n",
        "    def __init__(self, numero, marca, bateria, modelo):\n",
        "        self.__numero = numero\n",
        "        self.__marca = marca\n",
        "        self._bateria = bateria if 0 <= bateria <= 100 else 0\n",
        "        self.modelo = modelo\n",
        "\n",
        "    def cargar(self, cantidad):\n",
        "        if cantidad > 0 and self._bateria + cantidad <= 100:\n",
        "            self._bateria += cantidad\n",
        "\n",
        "    def usar(self, cantidad):\n",
        "        if cantidad > 0 and self._bateria - cantidad >= 0:\n",
        "            self._bateria -= cantidad\n",
        "\n",
        "    def get_bateria(self):\n",
        "        return self._bateria\n",
        "\n",
        "# Test\n",
        "if __name__ == \"__main__\":\n",
        "    telefono = Telefono(\"123456789\", \"Samsung\", 50, \"Galaxy\")\n",
        "    print(f\"Modelo: {telefono.modelo}\")\n",
        "    print(f\"Batería inicial: {telefono.get_bateria()}\")\n",
        "    telefono.cargar(30)\n",
        "    telefono.usar(20)\n",
        "    print(f\"Batería final: {telefono.get_bateria()}\")"
      ],
      "metadata": {
        "colab": {
          "base_uri": "https://localhost:8080/"
        },
        "id": "rej52Ku0M48n",
        "outputId": "6e8dfbaa-4a22-4035-d2e1-cd0612ac2e3c"
      },
      "execution_count": 28,
      "outputs": [
        {
          "output_type": "stream",
          "name": "stdout",
          "text": [
            "Modelo: Galaxy\n",
            "Batería inicial: 50\n",
            "Batería final: 60\n"
          ]
        }
      ]
    },
    {
      "cell_type": "code",
      "source": [
        "#java\n",
        "public class Telefono {\n",
        "    private String numero;\n",
        "    private String marca;\n",
        "    protected int bateria;\n",
        "    public String modelo;\n",
        "\n",
        "    public Telefono(String numero, String marca, int bateria, String modelo) {\n",
        "        this.numero = numero;\n",
        "        this.marca = marca;\n",
        "        this.bateria = (bateria >= 0 && bateria <= 100) ? bateria : 0;\n",
        "        this.modelo = modelo;\n",
        "    }\n",
        "\n",
        "    public void cargar(int cantidad) {\n",
        "        if (cantidad > 0 && bateria + cantidad <= 100) {\n",
        "            bateria += cantidad;\n",
        "        }\n",
        "    }\n",
        "\n",
        "    public void usar(int cantidad) {\n",
        "        if (cantidad > 0 && bateria - cantidad >= 0) {\n",
        "            bateria -= cantidad;\n",
        "        }\n",
        "    }\n",
        "\n",
        "    public int getBateria() {\n",
        "        return bateria;\n",
        "    }\n",
        "}"
      ],
      "metadata": {
        "id": "FWh40CKLNAce"
      },
      "execution_count": null,
      "outputs": []
    },
    {
      "cell_type": "markdown",
      "source": [
        "##Crea una clase Paciente con un nombre (privado), una edad (privada, no negativa) y un historial médico (protegido). Implementa getters para el nombre y la edad, y un setter para la edad con validación. Incluye un atributo público para el número de seguro."
      ],
      "metadata": {
        "id": "U4eQmAGwNDe-"
      }
    },
    {
      "cell_type": "code",
      "source": [
        "#phyton\n",
        "class Paciente:\n",
        "    def __init__(self, nombre, edad, historial, numero_seguro):\n",
        "        self.__nombre = nombre\n",
        "        self.__edad = edad if edad >= 0 else 0\n",
        "        self._historial = historial\n",
        "        self.numero_seguro = numero_seguro\n",
        "\n",
        "    def get_nombre(self):\n",
        "        return self.__nombre\n",
        "\n",
        "    def get_edad(self):\n",
        "        return self.__edad\n",
        "\n",
        "    def set_edad(self, edad):\n",
        "        if edad >= 0:\n",
        "            self.__edad = edad\n",
        "\n",
        "# Test\n",
        "if __name__ == \"__main__\":\n",
        "    paciente = Paciente(\"María\", 30, \"Ninguno\", \"S001\")\n",
        "    print(f\"Nombre: {paciente.get_nombre()}\")\n",
        "    print(f\"Edad: {paciente.get_edad()}\")\n",
        "    paciente.set_edad(31)\n",
        "    print(f\"Nueva edad: {paciente.get_edad()}\")"
      ],
      "metadata": {
        "colab": {
          "base_uri": "https://localhost:8080/"
        },
        "id": "9pZHsFmNNF_m",
        "outputId": "3ea4a754-a40d-4542-9b0f-c35cf8bf4940"
      },
      "execution_count": 29,
      "outputs": [
        {
          "output_type": "stream",
          "name": "stdout",
          "text": [
            "Nombre: María\n",
            "Edad: 30\n",
            "Nueva edad: 31\n"
          ]
        }
      ]
    },
    {
      "cell_type": "code",
      "source": [
        "#java\n",
        "public class Paciente {\n",
        "    private String nombre;\n",
        "    private int edad;\n",
        "    protected String historial;\n",
        "    public String numeroSeguro;\n",
        "\n",
        "    public Paciente(String nombre, int edad, String historial, String numeroSeguro) {\n",
        "        this.nombre = nombre;\n",
        "        this.edad = (edad >= 0) ? edad : 0;\n",
        "        this.historial = historial;\n",
        "        this.numeroSeguro = numeroSeguro;\n",
        "    }\n",
        "\n",
        "    public String getNombre() {\n",
        "        return nombre;\n",
        "    }\n",
        "\n",
        "    public int getEdad() {\n",
        "        return edad;\n",
        "    }\n",
        "\n",
        "    public void setEdad(int edad) {\n",
        "        if (edad >= 0) {\n",
        "            this.edad = edad;\n",
        "        }\n",
        "    }\n",
        "}"
      ],
      "metadata": {
        "id": "-coNCJPdNJ9I"
      },
      "execution_count": null,
      "outputs": []
    },
    {
      "cell_type": "markdown",
      "source": [
        "##Crea una clase Computadora con una marca (privada), un almacenamiento (privado, en GB, positivo) y un sistema operativo (protegido). Implementa getters para todos los atributos y un setter para el almacenamiento con validación. Incluye un atributo público para el número de serie."
      ],
      "metadata": {
        "id": "WiqMPxIYNQxO"
      }
    },
    {
      "cell_type": "code",
      "source": [
        "#phyton\n",
        "class Computadora:\n",
        "    def __init__(self, marca, almacenamiento, sistema_operativo, numero_serie):\n",
        "        self.__marca = marca\n",
        "        self.__almacenamiento = almacenamiento if almacenamiento > 0 else 1\n",
        "        self._sistema_operativo = sistema_operativo\n",
        "        self.numero_serie = numero_serie\n",
        "\n",
        "    def get_marca(self):\n",
        "        return self.__marca\n",
        "\n",
        "    def get_almacenamiento(self):\n",
        "        return self.__almacenamiento\n",
        "\n",
        "    def get_sistema_operativo(self):\n",
        "        return self._sistema_operativo\n",
        "\n",
        "    def set_almacenamiento(self, almacenamiento):\n",
        "        if almacenamiento > 0:\n",
        "            self.__almacenamiento = almacenamiento\n",
        "\n",
        "# Test\n",
        "if __name__ == \"__main__\":\n",
        "    computadora = Computadora(\"Dell\", 512, \"Windows\", \"SN001\")\n",
        "    print(f\"Marca: {computadora.get_marca()}\")\n",
        "    print(f\"Almacenamiento: {computadora.get_almacenamiento()}\")\n",
        "    computadora.set_almacenamiento(1024)\n",
        "    print(f\"Nuevo almacenamiento: {computadora.get_almacenamiento()}\")"
      ],
      "metadata": {
        "colab": {
          "base_uri": "https://localhost:8080/"
        },
        "id": "Z1WfULd-NUEG",
        "outputId": "b43442d3-60c0-4760-bf5f-bdfb258af29a"
      },
      "execution_count": 30,
      "outputs": [
        {
          "output_type": "stream",
          "name": "stdout",
          "text": [
            "Marca: Dell\n",
            "Almacenamiento: 512\n",
            "Nuevo almacenamiento: 1024\n"
          ]
        }
      ]
    },
    {
      "cell_type": "code",
      "source": [
        "#java\n",
        "public class Computadora {\n",
        "    private String marca;\n",
        "    private int almacenamiento;\n",
        "    protected String sistemaOperativo;\n",
        "    public String numeroSerie;\n",
        "\n",
        "    public Computadora(String marca, int almacenamiento, String sistemaOperativo, String numeroSerie) {\n",
        "        this.marca = marca;\n",
        "        this.almacenamiento = (almacenamiento > 0) ? almacenamiento : 1;\n",
        "        this.sistemaOperativo = sistemaOperativo;\n",
        "        this.numeroSerie = numeroSerie;\n",
        "    }\n",
        "\n",
        "    public String getMarca() {\n",
        "        return marca;\n",
        "    }\n",
        "\n",
        "    public int getAlmacenamiento() {\n",
        "        return almacenamiento;\n",
        "    }\n",
        "\n",
        "    public String getSistemaOperativo() {\n",
        "        return sistemaOperativo;\n",
        "    }\n",
        "\n",
        "    public void setAlmacenamiento(int almacenamiento) {\n",
        "        if (almacenamiento > 0) {\n",
        "            this.almacenamiento = almacenamiento;\n",
        "        }\n",
        "    }\n",
        "}"
      ],
      "metadata": {
        "id": "VEffujTXNYAH"
      },
      "execution_count": null,
      "outputs": []
    },
    {
      "cell_type": "markdown",
      "source": [
        "##Crea una clase ReservaHotel con un nombre del huésped (privado), un número de noches (privado, positivo) y un tipo de habitación (protegido). Implementa métodos para obtener el nombre y el número de noches, y un setter para el número de noches con validación. Incluye un atributo público para el código de reserva."
      ],
      "metadata": {
        "id": "GZM13uvGNblQ"
      }
    },
    {
      "cell_type": "code",
      "source": [
        "#phyton\n",
        "class ReservaHotel:\n",
        "    def __init__(self, huesped, noches, tipo_habitacion, codigo_reserva):\n",
        "        self.__huesped = huesped\n",
        "        self.__noches = noches if noches > 0 else 1\n",
        "        self._tipo_habitacion = tipo_habitacion\n",
        "        self.codigo_reserva = codigo_reserva\n",
        "\n",
        "    def get_huesped(self):\n",
        "        return self.__huesped\n",
        "\n",
        "    def get_noches(self):\n",
        "        return self.__noches\n",
        "\n",
        "    def set_noches(self, noches):\n",
        "        if noches > 0:\n",
        "            self.__noches = noches\n",
        "\n",
        "# Test\n",
        "if __name__ == \"__main__\":\n",
        "    reserva = ReservaHotel(\"Luis\", 3, \"Suite\", \"R001\")\n",
        "    print(f\"Huésped: {reserva.get_huesped()}\")\n",
        "    print(f\"Noches: {reserva.get_noches()}\")\n",
        "    reserva.set_noches(5)\n",
        "    print(f\"Nuevas noches: {reserva.get_noches()}\")"
      ],
      "metadata": {
        "colab": {
          "base_uri": "https://localhost:8080/"
        },
        "id": "4JqJRz5bNds_",
        "outputId": "e591618e-66fa-4cd1-f7cf-455ff5b4cf6c"
      },
      "execution_count": 31,
      "outputs": [
        {
          "output_type": "stream",
          "name": "stdout",
          "text": [
            "Huésped: Luis\n",
            "Noches: 3\n",
            "Nuevas noches: 5\n"
          ]
        }
      ]
    },
    {
      "cell_type": "code",
      "source": [
        "#java\n",
        "public class ReservaHotel {\n",
        "    private String huesped;\n",
        "    private int noches;\n",
        "    protected String tipoHabitacion;\n",
        "    public String codigoReserva;\n",
        "\n",
        "    public ReservaHotel(String huesped, int noches, String tipoHabitacion, String codigoReserva) {\n",
        "        this.huesped = huesped;\n",
        "        this.noches = (noches > 0) ? noches : 1;\n",
        "        this.tipoHabitacion = tipoHabitacion;\n",
        "        this.codigoReserva = codigoReserva;\n",
        "    }\n",
        "\n",
        "    public String getHuesped() {\n",
        "        return huesped;\n",
        "    }\n",
        "\n",
        "    public int getNoches() {\n",
        "        return noches;\n",
        "    }\n",
        "\n",
        "    public void setNoches(int noches) {\n",
        "        if (noches > 0) {\n",
        "            this.noches = noches;\n",
        "        }\n",
        "    }\n",
        "}"
      ],
      "metadata": {
        "id": "DL9qr0s7Nh1V"
      },
      "execution_count": null,
      "outputs": []
    }
  ]
}