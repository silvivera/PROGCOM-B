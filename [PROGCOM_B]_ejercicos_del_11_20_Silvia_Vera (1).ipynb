{
  "nbformat": 4,
  "nbformat_minor": 0,
  "metadata": {
    "colab": {
      "provenance": []
    },
    "kernelspec": {
      "name": "python3",
      "display_name": "Python 3"
    },
    "language_info": {
      "name": "python"
    }
  },
  "cells": [
    {
      "cell_type": "markdown",
      "source": [
        "Escribe un programa que calcule el índice de masa corporal (IMC) y determine la categoría (bajo peso, normal, sobrepeso, obesidad). Al final, el programa debe imprimir: el nombre del usuario, su categoría y una breve descripción de lo que debe hacer de acuerdo a su categoría."
      ],
      "metadata": {
        "id": "ywnPL8Kui1-k"
      }
    },
    {
      "cell_type": "code",
      "execution_count": 8,
      "metadata": {
        "colab": {
          "base_uri": "https://localhost:8080/"
        },
        "id": "pjRuBF6miYHZ",
        "outputId": "28734711-f315-4558-f70f-3847f3afc07e"
      },
      "outputs": [
        {
          "output_type": "stream",
          "name": "stdout",
          "text": [
            "Ingrese su nombre: SILVIA\n",
            "Ingrese su peso en kg: 140\n",
            "Ingrese su altura en metros: 1.60\n",
            "\n",
            "SILVIA, su IMC es 54.7\n",
            "Su categoría es: obesidad\n",
            "Consejo: debe consultar un médico 🥹\n"
          ]
        }
      ],
      "source": [
        "#CON FOR\n",
        "nombre = input(\"Ingrese su nombre: \")\n",
        "peso = float(input(\"Ingrese su peso en kg: \"))\n",
        "altura = float(input(\"Ingrese su altura en metros: \"))\n",
        "\n",
        "imc = peso / (altura ** 2)\n",
        "\n",
        "for i in range(1):\n",
        "    if imc < 18.5:\n",
        "        categoria = \"bajo peso\"\n",
        "        consejo = \"debe aumentar su peso sanamente\"\n",
        "    elif imc < 25:\n",
        "        categoria = \"peso normal\"\n",
        "        consejo = \"¡siga así! \\U0001F618\"\n",
        "    elif imc < 30:\n",
        "        categoria = \"sobrepeso\"\n",
        "        consejo = \"debe hacer más ejercicio\"\n",
        "    else:\n",
        "        categoria = \"obesidad\"\n",
        "        consejo = \"debe consultar un médico \\U0001F979\"\n",
        "\n",
        "print(f\"\\n{nombre}, su IMC es {imc:.1f}\")\n",
        "print(f\"Su categoría es: {categoria}\")\n",
        "print(f\"Consejo: {consejo}\")"
      ]
    },
    {
      "cell_type": "code",
      "source": [
        "# CON WHILE\n",
        "nombre = input(\"Ingrese su nombre: \")\n",
        "peso = float(input(\"Ingrese su peso en kg: \"))\n",
        "altura = float(input(\"Ingrese su altura en metros: \"))\n",
        "\n",
        "imc = peso / (altura ** 2)\n",
        "\n",
        "i = 0\n",
        "while i < 1:\n",
        "    if imc < 18.5:\n",
        "        categoria = \"bajo peso\"\n",
        "        consejo = \"debe aumentar su peso sanamente\"\n",
        "    elif imc < 25:\n",
        "        categoria = \"peso normal\"\n",
        "        consejo = \"¡siga así! \\U0001F618\"\n",
        "    elif imc < 30:\n",
        "        categoria = \"sobrepeso\"\n",
        "        consejo = \"debe hacer más ejercicio\"\n",
        "    else:\n",
        "        categoria = \"obesidad\"\n",
        "        consejo = \"debe consultar un médico \\U0001F979\"\n",
        "    i += 1\n",
        "\n",
        "print(f\"\\n{nombre}, su IMC es {imc:.1f}\")\n",
        "print(f\"Su categoría es: {categoria}\")\n",
        "print(f\"Consejo: {consejo}\")"
      ],
      "metadata": {
        "colab": {
          "base_uri": "https://localhost:8080/"
        },
        "id": "EBRJDxhbkVGG",
        "outputId": "ea70a000-2723-4bbb-fbb1-fd2f66e30e9a"
      },
      "execution_count": 6,
      "outputs": [
        {
          "output_type": "stream",
          "name": "stdout",
          "text": [
            "Ingrese su nombre: SILVIA\n",
            "Ingrese su peso en kg: 50\n",
            "Ingrese su altura en metros: 1.60\n",
            "\n",
            "SILVIA, su IMC es 19.5\n",
            "Su categoría es: peso normal\n",
            "Consejo: ¡siga así! 😘\n"
          ]
        }
      ]
    },
    {
      "cell_type": "markdown",
      "source": [
        "Desarrolla un programa que simule una calculadora simple (+, -, *, /) con dos números."
      ],
      "metadata": {
        "id": "e0uHAEnplJO6"
      }
    },
    {
      "cell_type": "code",
      "source": [
        "#CON FOR\n",
        "for i in range(1):\n",
        "    n1 = float(input(\"Número 1: \"))\n",
        "    n2 = float(input(\"Número 2: \"))\n",
        "    op = input(\"Operación (+,-,*,/): \")\n",
        "    if op == '+': print(f\"Resultado: {n1 + n2}\")\n",
        "    elif op == '-': print(f\"Resultado: {n1 - n2}\")\n",
        "    elif op == '*': print(f\"Resultado: {n1 * n2}\")\n",
        "    elif op == '/': print(f\"Resultado: {n1 / n2}\")"
      ],
      "metadata": {
        "colab": {
          "base_uri": "https://localhost:8080/"
        },
        "id": "wXGj8_skmVLg",
        "outputId": "93db5d70-5705-4247-f89f-4ff87bafae4d"
      },
      "execution_count": 9,
      "outputs": [
        {
          "output_type": "stream",
          "name": "stdout",
          "text": [
            "Número 1: 5\n",
            "Número 2: 7\n",
            "Operación (+,-,*,/): +\n",
            "Resultado: 12.0\n"
          ]
        }
      ]
    },
    {
      "cell_type": "code",
      "source": [
        "#CON WHILE\n",
        "f = 0\n",
        "while f < 1:\n",
        "    n1 = float(input(\"Número 1: \"))\n",
        "    n2 = float(input(\"Número 2: \"))\n",
        "    op = input(\"Operación (+,-,*,/): \")\n",
        "    if op == '+': print(f\"Resultado: {n1 + n2}\")\n",
        "    elif op == '-': print(f\"Resultado: {n1 - n2}\")\n",
        "    elif op == '*': print(f\"Resultado: {n1 * n2}\")\n",
        "    elif op == '/': print(f\"Resultado: {n1 / n2}\")\n",
        "    f += 1"
      ],
      "metadata": {
        "colab": {
          "base_uri": "https://localhost:8080/"
        },
        "id": "KiTk8a4amcP4",
        "outputId": "dbcfc03c-c637-49c3-8911-007012a2ea99"
      },
      "execution_count": 10,
      "outputs": [
        {
          "output_type": "stream",
          "name": "stdout",
          "text": [
            "Número 1: 8\n",
            "Número 2: 5\n",
            "Operación (+,-,*,/): -\n",
            "Resultado: 3.0\n"
          ]
        }
      ]
    },
    {
      "cell_type": "markdown",
      "source": [
        "Crea un programa que determine la calificación en letras (A, B, C, D, F) según una nota numérica (0-100)."
      ],
      "metadata": {
        "id": "6nUGuttxmua4"
      }
    },
    {
      "cell_type": "code",
      "source": [
        "# CON FOR\n",
        "for i in range(1):\n",
        "    nota = float(input(\"Nota (0-100): \"))\n",
        "    if nota >= 90: print(\"A\")\n",
        "    elif nota >= 80: print(\"B\")\n",
        "    elif nota >= 70: print(\"C\")\n",
        "    elif nota >= 60: print(\"D\")\n",
        "    else: print(\"F\")"
      ],
      "metadata": {
        "colab": {
          "base_uri": "https://localhost:8080/"
        },
        "id": "VurUgY_nm3K3",
        "outputId": "27fd2ec5-1bba-4300-c490-730e7623d8d1"
      },
      "execution_count": 11,
      "outputs": [
        {
          "output_type": "stream",
          "name": "stdout",
          "text": [
            "Nota (0-100): 50\n",
            "F\n"
          ]
        }
      ]
    },
    {
      "cell_type": "code",
      "source": [
        "# CON WHILE\n",
        "i = 0\n",
        "while i < 1:\n",
        "    nota = float(input(\"Nota (0-100): \"))\n",
        "    if nota >= 90: print(\"A\")\n",
        "    elif nota >= 80: print(\"B\")\n",
        "    elif nota >= 70: print(\"C\")\n",
        "    elif nota >= 60: print(\"D\")\n",
        "    else: print(\"F\")\n",
        "    i += 1"
      ],
      "metadata": {
        "colab": {
          "base_uri": "https://localhost:8080/"
        },
        "id": "6rpPMBkinazb",
        "outputId": "371d2628-7881-4b9c-d5eb-3377c21211de"
      },
      "execution_count": 13,
      "outputs": [
        {
          "output_type": "stream",
          "name": "stdout",
          "text": [
            "Nota (0-100): 73.3\n",
            "C\n"
          ]
        }
      ]
    },
    {
      "cell_type": "markdown",
      "source": [
        "Escribe un programa que determine el día de la semana según un número (1-7)."
      ],
      "metadata": {
        "id": "cex5cHPSnj8f"
      }
    },
    {
      "cell_type": "code",
      "source": [
        "#CON FOR\n",
        "for i in range(1):\n",
        "    dia = int(input(\"Número (1-7): \"))\n",
        "    if dia == 1: print(\"Lunes\")\n",
        "    elif dia == 2: print(\"Martes\")\n",
        "    elif dia == 3: print(\"Miércoles\")\n",
        "    elif dia == 4: print(\"Jueves\")\n",
        "    elif dia == 5: print(\"Viernes\")\n",
        "    elif dia == 6: print(\"Sábado\")\n",
        "    elif dia == 7: print(\"Domingo\")"
      ],
      "metadata": {
        "colab": {
          "base_uri": "https://localhost:8080/"
        },
        "id": "8nXG4pQFnrnP",
        "outputId": "e07b80e4-96e9-4132-cbd4-b791da426a05"
      },
      "execution_count": 14,
      "outputs": [
        {
          "output_type": "stream",
          "name": "stdout",
          "text": [
            "Número (1-7): 7\n",
            "Domingo\n"
          ]
        }
      ]
    },
    {
      "cell_type": "code",
      "source": [
        "# CON WHILE\n",
        "i = 0\n",
        "while i < 1:\n",
        "    dia = int(input(\"Número (1-7): \"))\n",
        "    if dia == 1: print(\"Lunes\")\n",
        "    elif dia == 2: print(\"Martes\")\n",
        "    elif dia == 3: print(\"Miércoles\")\n",
        "    elif dia == 4: print(\"Jueves\")\n",
        "    elif dia == 5: print(\"Viernes\")\n",
        "    elif dia == 6: print(\"Sábado\")\n",
        "    elif dia == 7: print(\"Domingo\")\n",
        "    i += 1"
      ],
      "metadata": {
        "colab": {
          "base_uri": "https://localhost:8080/"
        },
        "id": "4uMuvROBn8L4",
        "outputId": "fbf18d15-a3bf-4589-e2a7-f0a59f839abd"
      },
      "execution_count": 15,
      "outputs": [
        {
          "output_type": "stream",
          "name": "stdout",
          "text": [
            "Número (1-7): 5\n",
            "Viernes\n"
          ]
        }
      ]
    },
    {
      "cell_type": "markdown",
      "source": [
        "Desarrolla un programa que valide si tres números pueden formar un triángulo y de qué tipo es."
      ],
      "metadata": {
        "id": "5hSyD0troYFQ"
      }
    },
    {
      "cell_type": "code",
      "source": [
        "# CON FOR\n",
        "for i in range(1):\n",
        "    a = float(input(\"Lado 1: \"))\n",
        "    b = float(input(\"Lado 2: \"))\n",
        "    c = float(input(\"Lado 3: \"))\n",
        "    if a == b == c: print(\"Equilátero\")\n",
        "    elif a == b or b == c or a == c: print(\"Isósceles\")\n",
        "    else: print(\"Escaleno\")"
      ],
      "metadata": {
        "colab": {
          "base_uri": "https://localhost:8080/"
        },
        "id": "ofSamM23oct-",
        "outputId": "8a81dda7-a1c2-4864-8528-1cf0d139b3dc"
      },
      "execution_count": 16,
      "outputs": [
        {
          "output_type": "stream",
          "name": "stdout",
          "text": [
            "Lado 1: 7\n",
            "Lado 2: 7\n",
            "Lado 3: 7\n",
            "Equilátero\n"
          ]
        }
      ]
    },
    {
      "cell_type": "code",
      "source": [
        "# CON WHILE\n",
        "i = 0\n",
        "while i < 1:\n",
        "    a = float(input(\"Lado 1: \"))\n",
        "    b = float(input(\"Lado 2: \"))\n",
        "    c = float(input(\"Lado 3: \"))\n",
        "    if a == b == c: print(\"Equilátero\")\n",
        "    elif a == b or b == c or a == c: print(\"Isósceles\")\n",
        "    else: print(\"Escaleno\")\n",
        "    i += 1"
      ],
      "metadata": {
        "colab": {
          "base_uri": "https://localhost:8080/"
        },
        "id": "EhWq3y7Solpm",
        "outputId": "347b73be-ec71-43ab-938d-8f5162b8a7c5"
      },
      "execution_count": 18,
      "outputs": [
        {
          "output_type": "stream",
          "name": "stdout",
          "text": [
            "Lado 1: 6\n",
            "Lado 2: 6\n",
            "Lado 3: 9\n",
            "Isósceles\n"
          ]
        }
      ]
    },
    {
      "cell_type": "markdown",
      "source": [
        "Crea un programa que muestre la tabla de multiplicar de un número hasta el 10."
      ],
      "metadata": {
        "id": "Llc1Kc45ovdO"
      }
    },
    {
      "cell_type": "code",
      "source": [
        "# CON FOR\n",
        "n = int(input(\"Ingresa tu número: \"))\n",
        "for i in range(1, 11):\n",
        "    print(f\"{n} x {i} = {n * i}\")"
      ],
      "metadata": {
        "colab": {
          "base_uri": "https://localhost:8080/"
        },
        "id": "JaLHvko-oyvW",
        "outputId": "8034cc1f-fc70-4d02-be8d-d8ed3d6d245f"
      },
      "execution_count": 20,
      "outputs": [
        {
          "output_type": "stream",
          "name": "stdout",
          "text": [
            "Ingresa tu número: 9\n",
            "9 x 1 = 9\n",
            "9 x 2 = 18\n",
            "9 x 3 = 27\n",
            "9 x 4 = 36\n",
            "9 x 5 = 45\n",
            "9 x 6 = 54\n",
            "9 x 7 = 63\n",
            "9 x 8 = 72\n",
            "9 x 9 = 81\n",
            "9 x 10 = 90\n"
          ]
        }
      ]
    },
    {
      "cell_type": "code",
      "source": [
        "# CON WHILE\n",
        "n = int(input(\"Ingresa tu número: \"))\n",
        "i = 1\n",
        "while i <= 10:\n",
        "    print(f\"{n} x {i} = {n * i}\")\n",
        "    i += 1"
      ],
      "metadata": {
        "colab": {
          "base_uri": "https://localhost:8080/"
        },
        "id": "PL2l3ewDo-m-",
        "outputId": "40065621-7482-40b3-8830-0c76246b2d7f"
      },
      "execution_count": 21,
      "outputs": [
        {
          "output_type": "stream",
          "name": "stdout",
          "text": [
            "Ingresa tu número: 8\n",
            "8 x 1 = 8\n",
            "8 x 2 = 16\n",
            "8 x 3 = 24\n",
            "8 x 4 = 32\n",
            "8 x 5 = 40\n",
            "8 x 6 = 48\n",
            "8 x 7 = 56\n",
            "8 x 8 = 64\n",
            "8 x 9 = 72\n",
            "8 x 10 = 80\n"
          ]
        }
      ]
    },
    {
      "cell_type": "markdown",
      "source": [
        "Escribe un programa que calcule la suma de números naturales hasta n."
      ],
      "metadata": {
        "id": "0b1iWsbcpJaO"
      }
    },
    {
      "cell_type": "code",
      "source": [
        "# CON FOR\n",
        "n = int(input(\"Ingresa tu número: \"))\n",
        "suma = 0\n",
        "for i in range(1, n + 1):\n",
        "    suma += i\n",
        "print(f\"Suma: {suma}\")"
      ],
      "metadata": {
        "colab": {
          "base_uri": "https://localhost:8080/"
        },
        "id": "cjUYIy_6pNSF",
        "outputId": "3c057fec-bb74-4603-b647-fdaa5adc57c3"
      },
      "execution_count": 23,
      "outputs": [
        {
          "output_type": "stream",
          "name": "stdout",
          "text": [
            "Ingresa tu número: 7\n",
            "Suma: 28\n"
          ]
        }
      ]
    },
    {
      "cell_type": "code",
      "source": [
        "# CON WHILE\n",
        "n = int(input(\"Ingresa tu número: \"))\n",
        "suma = 0\n",
        "i = 1\n",
        "while i <= n:\n",
        "    suma += i\n",
        "    i += 1\n",
        "print(f\"Suma: {suma}\")\n"
      ],
      "metadata": {
        "colab": {
          "base_uri": "https://localhost:8080/"
        },
        "id": "oGTZ-dqPpf7V",
        "outputId": "a39c3974-baf4-4558-e185-38ce537ed8d6"
      },
      "execution_count": 24,
      "outputs": [
        {
          "output_type": "stream",
          "name": "stdout",
          "text": [
            "Ingresa tu número: 9\n",
            "Suma: 45\n"
          ]
        }
      ]
    },
    {
      "cell_type": "markdown",
      "source": [
        "Desarrolla un programa que calcule el factorial de un número. Recuerda que el factorial de 0 es 1 y no existen factoriales negativos."
      ],
      "metadata": {
        "id": "5AbRSckupvEV"
      }
    },
    {
      "cell_type": "code",
      "source": [
        "n = int(input(\"Número: \"))\n",
        "fact = 1\n",
        "for i in range(1, n + 1):\n",
        "    fact *= i\n",
        "print(f\"Factorial: {fact}\")"
      ],
      "metadata": {
        "id": "eysGmxHdp5jN",
        "outputId": "ec590504-1e6e-4fb1-8462-47693ddc2d91",
        "colab": {
          "base_uri": "https://localhost:8080/"
        }
      },
      "execution_count": 26,
      "outputs": [
        {
          "output_type": "stream",
          "name": "stdout",
          "text": [
            "Número: 7\n",
            "Factorial: 5040\n"
          ]
        }
      ]
    }
  ]
}