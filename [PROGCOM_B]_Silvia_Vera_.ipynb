{
  "nbformat": 4,
  "nbformat_minor": 0,
  "metadata": {
    "colab": {
      "provenance": []
    },
    "kernelspec": {
      "name": "python3",
      "display_name": "Python 3"
    },
    "language_info": {
      "name": "python"
    }
  },
  "cells": [
    {
      "cell_type": "markdown",
      "source": [
        "###Silvia Juliana Vera Lizarazo\n",
        "U00182839\n",
        "\n",
        "*trabajo: realizar los ejercicios del 6 al 10 de las cuatro formas (if, elif, match, operador cuaternario)*"
      ],
      "metadata": {
        "id": "OQ9XKZ55NPDG"
      }
    },
    {
      "cell_type": "markdown",
      "source": [
        "6. Desarrolla un programa que determine si un número es par o impar"
      ],
      "metadata": {
        "id": "7M1hYsFVShc8"
      }
    },
    {
      "cell_type": "code",
      "execution_count": 1,
      "metadata": {
        "colab": {
          "base_uri": "https://localhost:8080/"
        },
        "id": "iKjBmUp_KyKk",
        "outputId": "a7894d7c-f436-46bd-ae26-83a83d6467bf"
      },
      "outputs": [
        {
          "output_type": "stream",
          "name": "stdout",
          "text": [
            "Ingresa un número: 67\n",
            "El número es impar\n"
          ]
        }
      ],
      "source": [
        "# Con if\n",
        "num = int(input(\"Ingresa un número: \"))\n",
        "if num % 2 == 0:\n",
        "    print(\"El número es par\")\n",
        "if num % 2 != 0:\n",
        "    print(\"El número es impar\")"
      ]
    },
    {
      "cell_type": "code",
      "source": [
        "# Con elif\n",
        "num = int(input(\"Ingresa un número: \"))\n",
        "if num % 2 == 0:\n",
        "    print(\"El número es par\")\n",
        "elif num % 2 != 0:\n",
        "    print(\"El número es impar\")"
      ],
      "metadata": {
        "colab": {
          "base_uri": "https://localhost:8080/"
        },
        "id": "q2T86RSVSxmv",
        "outputId": "59df78df-d96b-456f-b344-ea10a64552cc"
      },
      "execution_count": 3,
      "outputs": [
        {
          "output_type": "stream",
          "name": "stdout",
          "text": [
            "Ingresa un número: 4444\n",
            "El número es par\n"
          ]
        }
      ]
    },
    {
      "cell_type": "code",
      "source": [
        "# Con match\n",
        "num = int(input(\"Ingresa un número: \"))\n",
        "match num % 2:\n",
        "    case 0:\n",
        "        print(\"El número es par\")\n",
        "    case 1:\n",
        "        print(\"El número es impar\")"
      ],
      "metadata": {
        "colab": {
          "base_uri": "https://localhost:8080/"
        },
        "id": "JcSM0rC7TCnx",
        "outputId": "7d8f0e9f-ada1-47bc-e10e-13a79c84742e"
      },
      "execution_count": 4,
      "outputs": [
        {
          "output_type": "stream",
          "name": "stdout",
          "text": [
            "Ingresa un número: 89\n",
            "El número es impar\n"
          ]
        }
      ]
    },
    {
      "cell_type": "code",
      "source": [
        "#Con operador ternario\n",
        "numero = int(input(\"Ingresa un número: \"))\n",
        "print(\"El número es par\" if numero % 2 == 0 else \"El número es impar\")"
      ],
      "metadata": {
        "colab": {
          "base_uri": "https://localhost:8080/"
        },
        "id": "cA7eOwm2TQTZ",
        "outputId": "64fefbd9-0b4d-41e8-a7c5-c806e2ee9b0b"
      },
      "execution_count": 5,
      "outputs": [
        {
          "output_type": "stream",
          "name": "stdout",
          "text": [
            "Ingresa un número: 897\n",
            "El número es impar\n"
          ]
        }
      ]
    },
    {
      "cell_type": "markdown",
      "source": [
        "7. Crea un programa que determine si un año es bisiesto (divisible por 4 y no por 100, o divisible por 400)"
      ],
      "metadata": {
        "id": "VyF3Nx3dTZ72"
      }
    },
    {
      "cell_type": "code",
      "source": [
        "# Con if\n",
        "año = int(input(\"Ingresa un año: \"))\n",
        "if año % 400 == 0:\n",
        "    print(\"El año es bisiesto\")\n",
        "if año % 100 != 0 and año % 4 == 0:\n",
        "    print(\"El año es bisiesto\")\n",
        "if año % 4 != 0 or (año % 100 == 0 and año % 400 != 0):\n",
        "    print(\"El año no es bisiesto\")"
      ],
      "metadata": {
        "colab": {
          "base_uri": "https://localhost:8080/"
        },
        "id": "Uo3ieOgqTih4",
        "outputId": "f191478b-1ffb-4141-dad8-8c5d1134cfff"
      },
      "execution_count": 7,
      "outputs": [
        {
          "output_type": "stream",
          "name": "stdout",
          "text": [
            "Ingresa un año: 2024\n",
            "El año es bisiesto\n"
          ]
        }
      ]
    },
    {
      "cell_type": "code",
      "source": [
        "# Con elif\n",
        "año = int(input(\"Ingresa un año: \"))\n",
        "if año % 400 == 0:\n",
        "    print(\"El año es bisiesto\")\n",
        "elif año % 100 == 0:\n",
        "    print(\"El año no es bisiesto\")\n",
        "elif año % 4 == 0:\n",
        "    print(\"El año es bisiesto\")\n",
        "elif año % 4 != 0:\n",
        "    print(\"El año no es bisiesto\")"
      ],
      "metadata": {
        "colab": {
          "base_uri": "https://localhost:8080/"
        },
        "id": "nQPY8DRbTsnO",
        "outputId": "e94b71fd-2b9f-4d25-e66e-ee487c77beb9"
      },
      "execution_count": 8,
      "outputs": [
        {
          "output_type": "stream",
          "name": "stdout",
          "text": [
            "Ingresa un año: 2027\n",
            "El año no es bisiesto\n"
          ]
        }
      ]
    },
    {
      "cell_type": "code",
      "source": [
        "# Con match\n",
        "año = int(input(\"Ingresa un año: \"))\n",
        "match (año % 400 == 0, año % 100 == 0, año % 4 == 0):\n",
        "    case (True, _, _):\n",
        "        print(\"El año es bisiesto\")\n",
        "    case (_, True, _):\n",
        "        print(\"El año no es bisiesto\")\n",
        "    case (_, _, True):\n",
        "        print(\"El año es bisiesto\")\n",
        "    case _:\n",
        "        print(\"El año no es bisiesto\")"
      ],
      "metadata": {
        "colab": {
          "base_uri": "https://localhost:8080/"
        },
        "id": "dJMsEI8aUCou",
        "outputId": "5296a987-3a15-4c25-a6f4-f1c6a730450b"
      },
      "execution_count": 10,
      "outputs": [
        {
          "output_type": "stream",
          "name": "stdout",
          "text": [
            "Ingresa un año: 2098\n",
            "El año no es bisiesto\n"
          ]
        }
      ]
    },
    {
      "cell_type": "code",
      "source": [
        "# Con operador ternario\n",
        "año = int(input(\"Ingresa un año: \"))\n",
        "print(\"El año es bisiesto\" if (año % 400 == 0 or (año % 4 == 0 and año % 100 != 0)) else \"El año no es bisiesto\")"
      ],
      "metadata": {
        "colab": {
          "base_uri": "https://localhost:8080/"
        },
        "id": "NLbS7zugUQzB",
        "outputId": "8634f381-481c-49ac-c379-a82ac712d4a5"
      },
      "execution_count": 12,
      "outputs": [
        {
          "output_type": "stream",
          "name": "stdout",
          "text": [
            "Ingresa un año: 2040\n",
            "El año es bisiesto\n"
          ]
        }
      ]
    },
    {
      "cell_type": "markdown",
      "source": [
        "8. Escribe un programa que solicite el nombre del usuario y determine si una persona pertenece a la tercera edad (70 años o más) y si se cumple la condición, imprima que se le da prioridad en la fila"
      ],
      "metadata": {
        "id": "Q6nFvzMYUc5Q"
      }
    },
    {
      "cell_type": "code",
      "source": [
        "# Con if\n",
        "nom = input(\"Ingresa tu nombre: \")\n",
        "edad = int(input(\"Ingresa tu edad: \"))\n",
        "if edad >= 70:\n",
        "    print(\"Tienes prioridad en la fila\", nom)\n",
        "if edad < 70:\n",
        "    print(\"No tienes prioridad en la fila\", nom)"
      ],
      "metadata": {
        "colab": {
          "base_uri": "https://localhost:8080/"
        },
        "id": "NLRlQASnUfET",
        "outputId": "37d98f61-787d-4e2e-85bf-8980936cb8d1"
      },
      "execution_count": 17,
      "outputs": [
        {
          "output_type": "stream",
          "name": "stdout",
          "text": [
            "Ingresa tu nombre: silvia\n",
            "Ingresa tu edad: 18\n",
            "No tienes prioridad en la fila silvia\n"
          ]
        }
      ]
    },
    {
      "cell_type": "code",
      "source": [
        "# Con elif\n",
        "nom = input(\"Ingresa tu nombre: \")\n",
        "edad = int(input(\"Ingresa tu edad: \"))\n",
        "if edad >= 70:\n",
        "    print(\"Tienes prioridad en la fila\", nom)\n",
        "elif edad < 70:\n",
        "    print(\"No tienes prioridad en la fila\", nom)"
      ],
      "metadata": {
        "colab": {
          "base_uri": "https://localhost:8080/"
        },
        "id": "dXVXxF4tUkQY",
        "outputId": "4d9c900d-1a19-4af5-e24c-ea759b4e0ec3"
      },
      "execution_count": 18,
      "outputs": [
        {
          "output_type": "stream",
          "name": "stdout",
          "text": [
            "Ingresa tu nombre: silvia\n",
            "Ingresa tu edad: 69\n",
            "No tienes prioridad en la fila silvia\n"
          ]
        }
      ]
    },
    {
      "cell_type": "code",
      "source": [
        "# Con match\n",
        "nom = input(\"Ingresa tu nombre: \")\n",
        "edad = int(input(\"Ingresa tu edad: \"))\n",
        "match edad >= 70:\n",
        "    case True:\n",
        "        print(\"Tienes prioridad en la fila\", nom)\n",
        "    case False:\n",
        "        print(\"No tienes prioridad en la fila\", nom)"
      ],
      "metadata": {
        "colab": {
          "base_uri": "https://localhost:8080/"
        },
        "id": "UNuKpHQ_UxZR",
        "outputId": "95e7d13f-5bea-4a25-d7b5-b1924f73e7f9"
      },
      "execution_count": 19,
      "outputs": [
        {
          "output_type": "stream",
          "name": "stdout",
          "text": [
            "Ingresa tu nombre: silvia\n",
            "Ingresa tu edad: 73\n",
            "Tienes prioridad en la fila silvia\n"
          ]
        }
      ]
    },
    {
      "cell_type": "code",
      "source": [
        "# Con operador ternario\n",
        "nom = input(\"Ingresa tu nombre: \")\n",
        "edad = int(input(\"Ingresa tu edad: \"))\n",
        "print(\"Tienes prioridad en la fila\" if edad >= 70 else \"No tienes prioridad en la fila\", nom)"
      ],
      "metadata": {
        "colab": {
          "base_uri": "https://localhost:8080/"
        },
        "id": "0ZvPpKygVXJI",
        "outputId": "5ed726b7-12e0-4109-d314-db9a10a6948f"
      },
      "execution_count": 20,
      "outputs": [
        {
          "output_type": "stream",
          "name": "stdout",
          "text": [
            "Ingresa tu nombre: silvia\n",
            "Ingresa tu edad: 100\n",
            "Tienes prioridad en la fila silvia\n"
          ]
        }
      ]
    },
    {
      "cell_type": "markdown",
      "source": [
        "9. Desarrolla un programa que compare tres números y muestre el mayor"
      ],
      "metadata": {
        "id": "BY86WqdbVnnA"
      }
    },
    {
      "cell_type": "code",
      "source": [
        "# Con If\n",
        "num1 = int(input(\"Ingresa el primer número: \"))\n",
        "num2 = int(input(\"Ingresa el segundo número: \"))\n",
        "num3 = int(input(\"Ingresa el tercer número: \"))\n",
        "if num1 >= num2 and num1 >= num3:\n",
        "    print(\"El mayor es\", num1)\n",
        "if num2 >= num1 and num2 >= num3:\n",
        "    print(\"El mayor es\", num2)\n",
        "if num3 >= num1 and num3 >= num2:\n",
        "    print(\"El mayor es\", num3)"
      ],
      "metadata": {
        "colab": {
          "base_uri": "https://localhost:8080/"
        },
        "id": "lAM4BM5LVuVN",
        "outputId": "df77471b-7f8e-4d2e-fc92-a29e3634a665"
      },
      "execution_count": 22,
      "outputs": [
        {
          "output_type": "stream",
          "name": "stdout",
          "text": [
            "Ingresa el primer número: 7\n",
            "Ingresa el segundo número: 6\n",
            "Ingresa el tercer número: 5\n",
            "El mayor es 7\n"
          ]
        }
      ]
    },
    {
      "cell_type": "code",
      "source": [
        "# Con elif\n",
        "num1 = int(input(\"Ingresa el primer número: \"))\n",
        "num2 = int(input(\"Ingresa el segundo número: \"))\n",
        "num3 = int(input(\"Ingresa el tercer número: \"))\n",
        "if num1 >= num2 and num1 >= num3:\n",
        "    print(\"El mayor es\", num1)\n",
        "elif num2 >= num1 and num2 >= num3:\n",
        "    print(\"El mayor es\", num2)\n",
        "elif num3 >= num1 and num3 >= num2:\n",
        "    print(\"El mayor es\", num3)"
      ],
      "metadata": {
        "colab": {
          "base_uri": "https://localhost:8080/"
        },
        "id": "23pwkCw3V7xS",
        "outputId": "287badaf-7ca4-4e3d-af02-5714c314186a"
      },
      "execution_count": 23,
      "outputs": [
        {
          "output_type": "stream",
          "name": "stdout",
          "text": [
            "Ingresa el primer número: 99\n",
            "Ingresa el segundo número: 100\n",
            "Ingresa el tercer número: 567\n",
            "El mayor es 567\n"
          ]
        }
      ]
    },
    {
      "cell_type": "code",
      "source": [
        "# Con match\n",
        "num1 = int(input(\"Ingresa el primer número: \"))\n",
        "num2 = int(input(\"Ingresa el segundo número: \"))\n",
        "num3 = int(input(\"Ingresa el tercer número: \"))\n",
        "match (num1 >= num2 and num1 >= num3, num2 >= num1 and num2 >= num3):\n",
        "    case (True, _):\n",
        "        print(\"El mayor es\", num1)\n",
        "    case (_, True):\n",
        "        print(\"El mayor es\", num2)\n",
        "    case _:\n",
        "        print(\"El mayor es\", num3)"
      ],
      "metadata": {
        "colab": {
          "base_uri": "https://localhost:8080/"
        },
        "id": "l7zFea-YWFsu",
        "outputId": "6045f5f5-b76d-4127-b83c-961df0fd638b"
      },
      "execution_count": 24,
      "outputs": [
        {
          "output_type": "stream",
          "name": "stdout",
          "text": [
            "Ingresa el primer número: 6\n",
            "Ingresa el segundo número: 876\n",
            "Ingresa el tercer número: 234\n",
            "El mayor es 876\n"
          ]
        }
      ]
    },
    {
      "cell_type": "code",
      "source": [
        "# Con operador ternario\n",
        "num1 = int(input(\"Ingresa el primer número: \"))\n",
        "num2 = int(input(\"Ingresa el segundo número: \"))\n",
        "num3 = int(input(\"Ingresa el tercer número: \"))\n",
        "print(\"El mayor es\", num1 if num1 >= num2 and num1 >= num3 else num2 if num2 >= num1 and num2 >= num3 else num3)"
      ],
      "metadata": {
        "colab": {
          "base_uri": "https://localhost:8080/"
        },
        "id": "XhUv0zc-WOre",
        "outputId": "70250d04-00bc-41c1-c9d6-c30dd68f6429"
      },
      "execution_count": 25,
      "outputs": [
        {
          "output_type": "stream",
          "name": "stdout",
          "text": [
            "Ingresa el primer número: 6543\n",
            "Ingresa el segundo número: 678\n",
            "Ingresa el tercer número: 432\n",
            "El mayor es 6543\n"
          ]
        }
      ]
    },
    {
      "cell_type": "markdown",
      "source": [
        "10. Crea un programa que determine si un triángulo es equilátero, isósceles o escaleno según sus lados."
      ],
      "metadata": {
        "id": "0NX9phlxWfj_"
      }
    },
    {
      "cell_type": "code",
      "source": [
        "# Con if\n",
        "lad1 = int(input(\"Ingresa el primer lado: \"))\n",
        "lad2 = int(input(\"Ingresa el segundo lado: \"))\n",
        "lad3 = int(input(\"Ingresa el tercer lado: \"))\n",
        "if lad1 == lad2 and lad2 == lad3:\n",
        "    print(\"Equilátero\")\n",
        "if lad1 == lad2 or lad1 == lad3 or lad2 == lad3:\n",
        "    print(\"Isósceles\")\n",
        "if lad1 != lad2 and lad1 != lad3 and lad2 != lad3:\n",
        "    print(\"Escaleno\")"
      ],
      "metadata": {
        "colab": {
          "base_uri": "https://localhost:8080/"
        },
        "id": "2o-W7NLApoJn",
        "outputId": "d4762703-cb4e-46b9-9613-250f801260d1"
      },
      "execution_count": 27,
      "outputs": [
        {
          "output_type": "stream",
          "name": "stdout",
          "text": [
            "Ingresa el primer lado: 7\n",
            "Ingresa el segundo lado: 8\n",
            "Ingresa el tercer lado: 9\n",
            "Escaleno\n"
          ]
        }
      ]
    },
    {
      "cell_type": "code",
      "source": [
        "# Con elif\n",
        "lad1 = int(input(\"Ingresa el primer lado: \"))\n",
        "lad2 = int(input(\"Ingresa el segundo lado: \"))\n",
        "lad3 = int(input(\"Ingresa el tercer lado: \"))\n",
        "if lad1 == lad2 and lad2 == lad3:\n",
        "    print(\"Equilátero\")\n",
        "elif lad1 == lad2 or lad1 == lad3 or lad2 == lad3:\n",
        "    print(\"Isósceles\")\n",
        "elif lad1 != lad2 and lad1 != lad3 and lad2 != lad3:\n",
        "    print(\"Escaleno\")"
      ],
      "metadata": {
        "colab": {
          "base_uri": "https://localhost:8080/"
        },
        "id": "IAk0eN4LpyHr",
        "outputId": "9499218d-afc8-4f3a-a981-b54a3db207a5"
      },
      "execution_count": 28,
      "outputs": [
        {
          "output_type": "stream",
          "name": "stdout",
          "text": [
            "Ingresa el primer lado: 6\n",
            "Ingresa el segundo lado: 7\n",
            "Ingresa el tercer lado: 6\n",
            "Isósceles\n"
          ]
        }
      ]
    },
    {
      "cell_type": "code",
      "source": [
        "# Con match\n",
        "lad1 = int(input(\"Ingresa el primer lado: \"))\n",
        "lad2 = int(input(\"Ingresa el segundo lado: \"))\n",
        "lad3 = int(input(\"Ingresa el tercer lado: \"))\n",
        "match (lad1 == lad2, lad2 == lad3, lad1 == lad3):\n",
        "    case (True, True, True):\n",
        "        print(\"Equilátero\")\n",
        "    case (True, False, _) | (_, False, True) | (False, True, _):\n",
        "        print(\"Isósceles\")\n",
        "    case _:\n",
        "        print(\"Escaleno\")"
      ],
      "metadata": {
        "colab": {
          "base_uri": "https://localhost:8080/"
        },
        "id": "hlnH5KWVp-Q3",
        "outputId": "9a69f4b5-9d43-4618-d157-0b9271e75469"
      },
      "execution_count": 29,
      "outputs": [
        {
          "output_type": "stream",
          "name": "stdout",
          "text": [
            "Ingresa el primer lado: 9\n",
            "Ingresa el segundo lado: 9\n",
            "Ingresa el tercer lado: 9\n",
            "Equilátero\n"
          ]
        }
      ]
    },
    {
      "cell_type": "code",
      "source": [
        "# Con operador ternario\n",
        "lad1 = int(input(\"Ingresa el primer lado: \"))\n",
        "lad2 = int(input(\"Ingresa el segundo lado: \"))\n",
        "lad3 = int(input(\"Ingresa el tercer lado: \"))\n",
        "print(\"Equilátero\" if lad1 == lad2 == lad3 else \"Isósceles\" if lad1 == lad2 or lad1 == lad3 or lad2 == lad3 else \"Escaleno\")"
      ],
      "metadata": {
        "colab": {
          "base_uri": "https://localhost:8080/"
        },
        "id": "vSYUlNG2qFQc",
        "outputId": "503e3b93-7f13-401c-97c1-de7b7ff65b4b"
      },
      "execution_count": 30,
      "outputs": [
        {
          "output_type": "stream",
          "name": "stdout",
          "text": [
            "Ingresa el primer lado: 5\n",
            "Ingresa el segundo lado: 6\n",
            "Ingresa el tercer lado: 7\n",
            "Escaleno\n"
          ]
        }
      ]
    }
  ]
}