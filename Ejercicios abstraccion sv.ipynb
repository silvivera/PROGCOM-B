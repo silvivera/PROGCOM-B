{
  "nbformat": 4,
  "nbformat_minor": 0,
  "metadata": {
    "colab": {
      "provenance": []
    },
    "kernelspec": {
      "name": "python3",
      "display_name": "Python 3"
    },
    "language_info": {
      "name": "python"
    }
  },
  "cells": [
    {
      "cell_type": "markdown",
      "source": [
        "Silvia Juliana Vera Lizarazo\n",
        "\n"
      ],
      "metadata": {
        "id": "JblVoO3S7j3-"
      }
    },
    {
      "cell_type": "markdown",
      "source": [
        "##Crea una clase Saludo con un método saludar(self, nombre) que imprima \"Hola, [nombre]\". Instancia la clase y llama al método con tu nombre."
      ],
      "metadata": {
        "id": "aBAAxMhd7OxH"
      }
    },
    {
      "cell_type": "code",
      "execution_count": 14,
      "metadata": {
        "colab": {
          "base_uri": "https://localhost:8080/"
        },
        "id": "kTM8n4jl609N",
        "outputId": "07070802-2ba0-44e0-c877-cfcdac9201be"
      },
      "outputs": [
        {
          "output_type": "stream",
          "name": "stdout",
          "text": [
            "Hola, Silvis\n"
          ]
        }
      ],
      "source": [
        "class Saludo:\n",
        "    def saludar(self, nombre):\n",
        "        print(f\"Hola, {nombre}\")\n",
        "\n",
        "# Prueba\n",
        "saludo = Saludo()\n",
        "saludo.saludar(\"Silvis\")"
      ]
    },
    {
      "cell_type": "markdown",
      "source": [
        "##Crea una clase Numero con un atributo valor. Agrega un método es_par(self) que devuelva True si el número es par. Instancia la clase con varios números y prueba el método."
      ],
      "metadata": {
        "id": "3DvfGnsy7vrj"
      }
    },
    {
      "cell_type": "code",
      "source": [
        "class Numero:\n",
        "    def __init__(self, valor):\n",
        "        self.valor = valor\n",
        "\n",
        "    def es_par(self):\n",
        "        return self.valor % 2 == 0\n",
        "\n",
        "# Prueba\n",
        "print(Numero(4).es_par())  # True\n",
        "print(Numero(7).es_par())  # False\n"
      ],
      "metadata": {
        "colab": {
          "base_uri": "https://localhost:8080/"
        },
        "id": "zfW44DXj75z-",
        "outputId": "dffa0e02-0a53-4630-c539-ae1ff3b4824a"
      },
      "execution_count": 2,
      "outputs": [
        {
          "output_type": "stream",
          "name": "stdout",
          "text": [
            "True\n",
            "False\n"
          ]
        }
      ]
    },
    {
      "cell_type": "markdown",
      "source": [
        "##Crea una clase Rectangulo con atributos base y altura. Agrega un método area(self) que devuelva el área del rectángulo. Instancia la clase y muestra el área."
      ],
      "metadata": {
        "id": "stntsbyp78NW"
      }
    },
    {
      "cell_type": "code",
      "source": [
        "class Rectangulo:\n",
        "    def __init__(self, base, altura):\n",
        "        self.base = base\n",
        "        self.altura = altura\n",
        "\n",
        "    def area(self):\n",
        "        return self.base * self.altura\n",
        "\n",
        "# Prueba\n",
        "rect = Rectangulo(5, 3)\n",
        "print(rect.area())\n"
      ],
      "metadata": {
        "colab": {
          "base_uri": "https://localhost:8080/"
        },
        "id": "BXJ1W63s7_v4",
        "outputId": "938deff9-08af-423b-eaab-302515692c04"
      },
      "execution_count": 4,
      "outputs": [
        {
          "output_type": "stream",
          "name": "stdout",
          "text": [
            "15\n"
          ]
        }
      ]
    },
    {
      "cell_type": "markdown",
      "source": [
        "##Crea una clase Temperatura con un atributo celsius. Agrega un método a_fahrenheit(self) que devuelva la conversión. Usa la fórmula F = C * 1.8 + 32."
      ],
      "metadata": {
        "id": "q4zyTh0u8KVl"
      }
    },
    {
      "cell_type": "code",
      "source": [
        "class Temperatura:\n",
        "    def __init__(self, celsius):\n",
        "        self.celsius = celsius\n",
        "\n",
        "    def a_fahrenheit(self):\n",
        "        return self.celsius * 1.8 + 32\n",
        "\n",
        "# Prueba\n",
        "temp = Temperatura(25)\n",
        "print(temp.a_fahrenheit())  # 77.0\n"
      ],
      "metadata": {
        "colab": {
          "base_uri": "https://localhost:8080/"
        },
        "id": "WUs2MPxb8NQV",
        "outputId": "46baada1-3716-4eb8-88cc-647e4c126553"
      },
      "execution_count": 5,
      "outputs": [
        {
          "output_type": "stream",
          "name": "stdout",
          "text": [
            "77.0\n"
          ]
        }
      ]
    },
    {
      "cell_type": "markdown",
      "source": [
        "##Crea una clase Palabra con un atributo texto. Agrega un método contar_vocales(self) que cuente las vocales. Instancia la clase con distintas palabras y prueba el método."
      ],
      "metadata": {
        "id": "7oX3inpY8VrF"
      }
    },
    {
      "cell_type": "code",
      "source": [
        "class Palabra:\n",
        "    def __init__(self, texto):\n",
        "        self.texto = texto\n",
        "\n",
        "    def contar_vocales(self):\n",
        "        return sum(1 for c in self.texto.lower() if c in 'aeiou')\n",
        "\n",
        "# Prueba\n",
        "pal = Palabra(\"Abstracción\")\n",
        "print(pal.contar_vocales())\n"
      ],
      "metadata": {
        "colab": {
          "base_uri": "https://localhost:8080/"
        },
        "id": "tr7W5ViQ8aEV",
        "outputId": "0c008776-64d2-4e51-a649-bb0d6276a704"
      },
      "execution_count": 7,
      "outputs": [
        {
          "output_type": "stream",
          "name": "stdout",
          "text": [
            "3\n"
          ]
        }
      ]
    },
    {
      "cell_type": "markdown",
      "source": [
        "##Crea una clase Palindromo con un atributo palabra. Agrega un método es_palindromo(self) que retorne True si lo es. Prueba con varias palabras como \"reconocer\", \"luz\", \"oso\"."
      ],
      "metadata": {
        "id": "LZvaIvld8eq9"
      }
    },
    {
      "cell_type": "code",
      "source": [
        "class Palindromo:\n",
        "    def __init__(self, palabra):\n",
        "        self.palabra = palabra\n",
        "\n",
        "    def es_palindromo(self):\n",
        "        limpia = self.palabra.lower().replace(\" \", \"\")\n",
        "        return limpia == limpia[::-1]\n",
        "\n",
        "# Prueba\n",
        "print(Palindromo(\"reconocer\").es_palindromo())  # True\n",
        "print(Palindromo(\"luz\").es_palindromo())        # False\n",
        "print(Palindromo(\"oso\").es_palindromo())        # True\n"
      ],
      "metadata": {
        "colab": {
          "base_uri": "https://localhost:8080/"
        },
        "id": "cvQ1CN3q8nEN",
        "outputId": "7b301cd2-94cf-4e94-bd01-3c050b95aca4"
      },
      "execution_count": 8,
      "outputs": [
        {
          "output_type": "stream",
          "name": "stdout",
          "text": [
            "True\n",
            "False\n",
            "True\n"
          ]
        }
      ]
    },
    {
      "cell_type": "markdown",
      "source": [
        "##Crea una clase Dado con un método tirar(self) que devuelva un número aleatorio entre 1 y 6. Usa import random dentro del método. Instancia y lanza el dado varias veces."
      ],
      "metadata": {
        "id": "vlwkFDmx8r_N"
      }
    },
    {
      "cell_type": "code",
      "source": [
        "import random\n",
        "\n",
        "class Dado:\n",
        "    def tirar(self):\n",
        "        return random.randint(1, 6)\n",
        "\n",
        "# Prueba\n",
        "dado = Dado()\n",
        "for _ in range(5):\n",
        "    print(dado.tirar())  # Número entre 1 y 6\n"
      ],
      "metadata": {
        "colab": {
          "base_uri": "https://localhost:8080/"
        },
        "id": "pDEQZOFA8xnV",
        "outputId": "6ac3c219-2129-4b39-aef8-ff7e27189b63"
      },
      "execution_count": 9,
      "outputs": [
        {
          "output_type": "stream",
          "name": "stdout",
          "text": [
            "1\n",
            "3\n",
            "6\n",
            "6\n",
            "4\n"
          ]
        }
      ]
    },
    {
      "cell_type": "markdown",
      "source": [
        "##Crea una clase ListaCuadrados con un método generar(self, n) que retorne una lista con los cuadrados de los primeros n números. Prueba con diferentes valores de n."
      ],
      "metadata": {
        "id": "DBJhD-wJ83GX"
      }
    },
    {
      "cell_type": "code",
      "source": [
        "class ListaCuadrados:\n",
        "    def generar(self, n):\n",
        "        return [i ** 2 for i in range(1, n + 1)]\n",
        "\n",
        "# Prueba\n",
        "print(ListaCuadrados().generar(5))  # [1, 4, 9, 16, 25]\n"
      ],
      "metadata": {
        "colab": {
          "base_uri": "https://localhost:8080/"
        },
        "id": "SRavIlbI86CI",
        "outputId": "f35ffad0-a23a-4c74-cd58-91a7665cf952"
      },
      "execution_count": 10,
      "outputs": [
        {
          "output_type": "stream",
          "name": "stdout",
          "text": [
            "[1, 4, 9, 16, 25]\n"
          ]
        }
      ]
    },
    {
      "cell_type": "markdown",
      "source": [
        "##Crea una clase Calculadora con un método operar(self, a, b, tipo) que realice la operación indicada: suma, resta, multiplicación o división. Instancia y prueba con varios casos."
      ],
      "metadata": {
        "id": "Y1ZO4oBk89VE"
      }
    },
    {
      "cell_type": "code",
      "source": [
        "class Calculadora:\n",
        "    def operar(self, a, b, tipo):\n",
        "        if tipo == \"suma\":\n",
        "            return a + b\n",
        "        elif tipo == \"resta\":\n",
        "            return a - b\n",
        "        elif tipo == \"multiplicacion\":\n",
        "            return a * b\n",
        "        elif tipo == \"division\":\n",
        "            return a / b if b != 0 else \"División por cero\"\n",
        "        else:\n",
        "            return \"Operación no válida\"\n",
        "\n",
        "# Prueba\n",
        "calc = Calculadora()\n",
        "print(calc.operar(5, 3, \"suma\"))          # 8\n",
        "print(calc.operar(5, 3, \"resta\"))         # 2\n",
        "print(calc.operar(5, 3, \"multiplicacion\"))# 15\n",
        "print(calc.operar(5, 0, \"division\"))      # División por cero\n"
      ],
      "metadata": {
        "colab": {
          "base_uri": "https://localhost:8080/"
        },
        "id": "CvkW1CRU8_6V",
        "outputId": "f697a800-4962-4e16-b48a-871acd368eef"
      },
      "execution_count": 11,
      "outputs": [
        {
          "output_type": "stream",
          "name": "stdout",
          "text": [
            "8\n",
            "2\n",
            "15\n",
            "División por cero\n"
          ]
        }
      ]
    },
    {
      "cell_type": "markdown",
      "source": [
        "##Crea una clase GeneradorContrasena con un método crear(self, nombre, año) que retorne la contraseña uniendo el nombre con el año y un símbolo como @. Prueba el método con diferentes nombres y años."
      ],
      "metadata": {
        "id": "JC6DgSxk9Ukk"
      }
    },
    {
      "cell_type": "code",
      "source": [
        "class GeneradorContrasena:\n",
        "    def crear(self, nombre, año):\n",
        "        return f\"{nombre}@{año}\"\n",
        "\n",
        "# Prueba\n",
        "gen = GeneradorContrasena()\n",
        "print(gen.crear(\"carlos\", 2025))\n"
      ],
      "metadata": {
        "colab": {
          "base_uri": "https://localhost:8080/"
        },
        "id": "RFMF3rOS9Xo9",
        "outputId": "1bb4b57c-c808-4253-9754-7801edae52bc"
      },
      "execution_count": 13,
      "outputs": [
        {
          "output_type": "stream",
          "name": "stdout",
          "text": [
            "carlos@2025\n"
          ]
        }
      ]
    }
  ]
}