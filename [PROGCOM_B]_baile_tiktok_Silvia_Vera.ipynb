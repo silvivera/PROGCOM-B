{
  "nbformat": 4,
  "nbformat_minor": 0,
  "metadata": {
    "colab": {
      "provenance": []
    },
    "kernelspec": {
      "name": "python3",
      "display_name": "Python 3"
    },
    "language_info": {
      "name": "python"
    }
  },
  "cells": [
    {
      "cell_type": "code",
      "execution_count": 1,
      "metadata": {
        "id": "-8OyXPdZuCaK"
      },
      "outputs": [],
      "source": [
        "def mover_cadera(lado, repeticion):\n",
        "  for i in range(repeticion):\n",
        "     for j in range(lado):\n",
        "       print(\"mueve cadera hacia la derecha\")\n",
        "     for z in range(lado):\n",
        "       print(\"mueve cadera hacia laizquierda\")\n",
        "def giro():\n",
        "    print(\"girar 180° con salto\")\n",
        "def movimiento_brazos():\n",
        "    print(\"mover los brazos\")"
      ]
    },
    {
      "cell_type": "code",
      "source": [
        "mover_cadera(2,3)\n",
        "mover_cadera(1,2)\n",
        "giro()\n",
        "mover_cadera(2,3)\n",
        "mover_cadera(1,2)\n",
        "movimiento_brazos()"
      ],
      "metadata": {
        "colab": {
          "base_uri": "https://localhost:8080/"
        },
        "id": "GELWqB1YuIvJ",
        "outputId": "19982ee8-b45f-406a-d8c0-4887f98d7938"
      },
      "execution_count": 2,
      "outputs": [
        {
          "output_type": "stream",
          "name": "stdout",
          "text": [
            "mueve cadera hacia la derecha\n",
            "mueve cadera hacia la derecha\n",
            "mueve cadera hacia laizquierda\n",
            "mueve cadera hacia laizquierda\n",
            "mueve cadera hacia la derecha\n",
            "mueve cadera hacia la derecha\n",
            "mueve cadera hacia laizquierda\n",
            "mueve cadera hacia laizquierda\n",
            "mueve cadera hacia la derecha\n",
            "mueve cadera hacia la derecha\n",
            "mueve cadera hacia laizquierda\n",
            "mueve cadera hacia laizquierda\n",
            "mueve cadera hacia la derecha\n",
            "mueve cadera hacia laizquierda\n",
            "mueve cadera hacia la derecha\n",
            "mueve cadera hacia laizquierda\n",
            "girar 180° con salto\n",
            "mueve cadera hacia la derecha\n",
            "mueve cadera hacia la derecha\n",
            "mueve cadera hacia laizquierda\n",
            "mueve cadera hacia laizquierda\n",
            "mueve cadera hacia la derecha\n",
            "mueve cadera hacia la derecha\n",
            "mueve cadera hacia laizquierda\n",
            "mueve cadera hacia laizquierda\n",
            "mueve cadera hacia la derecha\n",
            "mueve cadera hacia la derecha\n",
            "mueve cadera hacia laizquierda\n",
            "mueve cadera hacia laizquierda\n",
            "mueve cadera hacia la derecha\n",
            "mueve cadera hacia laizquierda\n",
            "mueve cadera hacia la derecha\n",
            "mueve cadera hacia laizquierda\n",
            "mover los brazos\n"
          ]
        }
      ]
    }
  ]
}