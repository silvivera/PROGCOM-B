{
  "nbformat": 4,
  "nbformat_minor": 0,
  "metadata": {
    "colab": {
      "provenance": []
    },
    "kernelspec": {
      "name": "python3",
      "display_name": "Python 3"
    },
    "language_info": {
      "name": "python"
    }
  },
  "cells": [
    {
      "cell_type": "markdown",
      "source": [
        "##Silvia Juliana Vera Lizarazo\n",
        "U00182839\n",
        "\n",
        "Ejercicios del 15 al 25 con listas"
      ],
      "metadata": {
        "id": "Vei6gtodPyTd"
      }
    },
    {
      "cell_type": "markdown",
      "source": [
        "15. Desarrolla un programa que valide si tres números pueden formar un triángulo y de qué tipo es."
      ],
      "metadata": {
        "id": "L0ZtproGGUzE"
      }
    },
    {
      "cell_type": "code",
      "execution_count": null,
      "metadata": {
        "colab": {
          "base_uri": "https://localhost:8080/"
        },
        "id": "CmOem2lLGCWh",
        "outputId": "e012d7c9-09b3-4c05-dac6-026dce7dfa48"
      },
      "outputs": [
        {
          "output_type": "stream",
          "name": "stdout",
          "text": [
            "Ingrese las medidas de los tres lados del triángulo:\n",
            "Lado 1: 7\n",
            "Lado 2: 5\n",
            "Lado 3: 7\n",
            "Los lados ingresados pueden formar un triángulo.\n",
            "Es un triángulo isósceles (dos lados iguales).\n",
            "Además, es un triángulo acutángulo (todos sus ángulos son agudos).\n"
          ]
        }
      ],
      "source": [
        "lados = []\n",
        "\n",
        "print(\"Ingrese las medidas de los tres lados del triángulo:\")\n",
        "for i in range(3):\n",
        "    lado = float(input(f\"Lado {i+1}: \"))\n",
        "    lados.append(lado)\n",
        "\n",
        "lados.sort()\n",
        "\n",
        "if lados[0] + lados[1] > lados[2]:\n",
        "    print(\"Los lados ingresados pueden formar un triángulo.\")\n",
        "\n",
        "    if lados[0] == lados[1] == lados[2]:\n",
        "        print(\"Es un triángulo equilátero (tres lados iguales).\")\n",
        "    elif lados[0] == lados[1] or lados[1] == lados[2] or lados[0] == lados[2]:\n",
        "        print(\"Es un triángulo isósceles (dos lados iguales).\")\n",
        "    else:\n",
        "        print(\"Es un triángulo escaleno (todos los lados diferentes).\")\n",
        "\n",
        "    if lados[0]**2 + lados[1]**2 == lados[2]**2:\n",
        "        print(\"Además, es un triángulo rectángulo (cumple el Teorema de Pitágoras).\")\n",
        "    elif lados[0]**2 + lados[1]**2 > lados[2]**2:\n",
        "        print(\"Además, es un triángulo acutángulo (todos sus ángulos son agudos).\")\n",
        "    else:\n",
        "        print(\"Además, es un triángulo obtusángulo (tiene un ángulo obtuso).\")\n",
        "else:\n",
        "    print(\"Los lados ingresados NO pueden formar un triángulo.\")\n",
        "    print(\"Para formar un triángulo, la suma de las longitudes de dos lados debe ser mayor que la longitud del tercer lado.\")"
      ]
    },
    {
      "cell_type": "markdown",
      "source": [
        "16. Crea un programa que muestre la tabla de multiplicar de un número hasta el 10."
      ],
      "metadata": {
        "id": "LJ77hYz4Gpp0"
      }
    },
    {
      "cell_type": "code",
      "source": [
        "numero = int(input(\"Ingresa un número para ver su tabla de multiplicar: \"))\n",
        "\n",
        "resultados = [numero * i for i in range(1, 11)]\n",
        "\n",
        "print(f\"\\nTabla de multiplicar del {numero}:\")\n",
        "for i in range(10):\n",
        "    print(f\"{numero} x {i+1} = {resultados[i]}\")"
      ],
      "metadata": {
        "id": "w-GyXATWGuBb",
        "colab": {
          "base_uri": "https://localhost:8080/"
        },
        "outputId": "17f7f0ff-b91c-46fa-b8cf-d084e8409bce"
      },
      "execution_count": 31,
      "outputs": [
        {
          "output_type": "stream",
          "name": "stdout",
          "text": [
            "Ingresa un número para ver su tabla de multiplicar: 7\n",
            "\n",
            "Tabla de multiplicar del 7:\n",
            "7 x 1 = 7\n",
            "7 x 2 = 14\n",
            "7 x 3 = 21\n",
            "7 x 4 = 28\n",
            "7 x 5 = 35\n",
            "7 x 6 = 42\n",
            "7 x 7 = 49\n",
            "7 x 8 = 56\n",
            "7 x 9 = 63\n",
            "7 x 10 = 70\n"
          ]
        }
      ]
    },
    {
      "cell_type": "markdown",
      "source": [
        "17. Escribe un programa que calcule la suma de números naturales hasta n."
      ],
      "metadata": {
        "id": "ILhamw8qG1QY"
      }
    },
    {
      "cell_type": "code",
      "source": [
        "n = int(input(\"Ingresa un número para calcular la suma de naturales hasta n: \"))\n",
        "\n",
        "naturales = [i for i in range(1, n+1)]\n",
        "suma = sum(naturales)\n",
        "\n",
        "print(f\"La suma de los números naturales del 1 al {n} es: {suma}\")\n",
        "\n",
        "formula = n * (n + 1) // 2\n",
        "print(f\"Comprobamos usando la fórmula n*(n+1)/2: {formula}\")"
      ],
      "metadata": {
        "colab": {
          "base_uri": "https://localhost:8080/"
        },
        "id": "KVswunNMHTp2",
        "outputId": "033d479b-0728-451c-adb2-acefeb265298"
      },
      "execution_count": 30,
      "outputs": [
        {
          "output_type": "stream",
          "name": "stdout",
          "text": [
            "Ingresa un número para calcular la suma de naturales hasta n: 7\n",
            "La suma de los números naturales del 1 al 7 es: 28\n",
            "Comprobamos usando la fórmula n*(n+1)/2: 28\n"
          ]
        }
      ]
    },
    {
      "cell_type": "markdown",
      "source": [
        "18. Desarrolla un programa que calcule el factorial de un número. Recuerda que el factorial de 0 es 1 y no existen factoriales negativos."
      ],
      "metadata": {
        "id": "OEy3etDhHUgH"
      }
    },
    {
      "cell_type": "code",
      "source": [
        "numero = int(input(\"Ingresa un número para calcular su factorial: \"))\n",
        "\n",
        "if numero < 0:\n",
        "    print(\"Error: No existen factoriales de números negativos.\")\n",
        "elif numero == 0:\n",
        "    print(\"El factorial de 0 es: 1\")\n",
        "else:\n",
        "    factores = [i for i in range(1, numero + 1)]\n",
        "    factorial = 1\n",
        "\n",
        "    for factor in factores:\n",
        "        factorial *= factor\n",
        "\n",
        "    print(f\"El factorial de {numero} es: {factorial}\")"
      ],
      "metadata": {
        "colab": {
          "base_uri": "https://localhost:8080/"
        },
        "id": "XDIKM91zHaIO",
        "outputId": "ffbc0c47-104b-411f-8ce5-f7f78e02018e"
      },
      "execution_count": null,
      "outputs": [
        {
          "output_type": "stream",
          "name": "stdout",
          "text": [
            "Ingresa un número para calcular su factorial: 7\n",
            "El factorial de 7 es: 5040\n"
          ]
        }
      ]
    },
    {
      "cell_type": "markdown",
      "source": [
        "19. Crea un programa que muestre los primeros n números de la serie Fibonacci."
      ],
      "metadata": {
        "id": "tPGbhg_rH0jL"
      }
    },
    {
      "cell_type": "code",
      "source": [
        "n = int(input(\"Ingresa cuántos números de la serie Fibonacci quieres ver: \"))\n",
        "\n",
        "if n <= 0:\n",
        "    print(\"Por favor ingresa un número positivo.\")\n",
        "elif n == 1:\n",
        "    print(\"Los primeros\", n, \"números de la serie Fibonacci:\")\n",
        "    print(\"0\")\n",
        "else:\n",
        "    fibonacci = [0, 1]\n",
        "\n",
        "    while len(fibonacci) < n:\n",
        "        fibonacci.append(fibonacci[-1] + fibonacci[-2])\n",
        "\n",
        "    print(\"Los primeros\", n, \"números de la serie Fibonacci:\")\n",
        "    for numero in fibonacci[:n]:\n",
        "        print(numero, end=\" \")"
      ],
      "metadata": {
        "id": "5HjQ3IO4IjOB",
        "colab": {
          "base_uri": "https://localhost:8080/"
        },
        "outputId": "665333a0-4f6f-40a1-90fe-b4f3dc2e54e0"
      },
      "execution_count": 14,
      "outputs": [
        {
          "output_type": "stream",
          "name": "stdout",
          "text": [
            "Ingresa cuántos números de la serie Fibonacci quieres ver: 20\n",
            "Los primeros 20 números de la serie Fibonacci:\n",
            "0 1 1 2 3 5 8 13 21 34 55 89 144 233 377 610 987 1597 2584 4181 "
          ]
        }
      ]
    },
    {
      "cell_type": "markdown",
      "source": [
        "20. Escribe un programa que adivine entre un conjunto de diez colores definidos por el usuario, con un máximo de 10 intentos."
      ],
      "metadata": {
        "id": "r3cjaaCVLFsf"
      }
    },
    {
      "cell_type": "code",
      "source": [
        "def juego_colores():\n",
        "    colores = []\n",
        "    print(\"Ingresa 10 colores diferentes:\")\n",
        "    for i in range(10):\n",
        "        color = input(f\"Color {i+1}: \").lower()\n",
        "        colores.append(color)\n",
        "    import random\n",
        "    color_secreto = random.choice(colores)\n",
        "    intentos = []\n",
        "    print(\"\\n¡Juego de adivinar colores!\")\n",
        "    print(\"Tienes 10 intentos para adivinar el color secreto.\")\n",
        "    for intento in range(1, 11):\n",
        "        print(f\"\\nIntento {intento}\")\n",
        "        color = input(\"Adivina el color (en minúsculas): \").lower()\n",
        "        intentos.append(color)\n",
        "\n",
        "        if color == color_secreto:\n",
        "            print(f\"¡Felicidades! Adivinaste el color secreto en {intento} intentos.\")\n",
        "            return intentos\n",
        "        if color in colores:\n",
        "            print(\"El color está en la lista, pero no es el correcto.\")\n",
        "        else:\n",
        "            print(\"Ese color no está en la lista.\")\n",
        "\n",
        "    print(f\"\\nSe acabaron los intentos. El color secreto era: {color_secreto}\")\n",
        "    return intentos\n",
        "print(juego_colores())"
      ],
      "metadata": {
        "colab": {
          "base_uri": "https://localhost:8080/"
        },
        "id": "7sAQkUdlLJs-",
        "outputId": "8d9aff9c-3182-4d80-8700-7c4be30ece67"
      },
      "execution_count": 20,
      "outputs": [
        {
          "output_type": "stream",
          "name": "stdout",
          "text": [
            "Ingresa 10 colores diferentes:\n",
            "Color 1: verde\n",
            "Color 2: amariilo\n",
            "Color 3: naranja\n",
            "Color 4: negro\n",
            "Color 5: rojo\n",
            "Color 6: rosa\n",
            "Color 7: morado\n",
            "Color 8: cafe\n",
            "Color 9: lila\n",
            "Color 10: vinotinto\n",
            "\n",
            "¡Juego de adivinar colores!\n",
            "Tienes 10 intentos para adivinar el color secreto.\n",
            "\n",
            "Intento 1\n",
            "Adivina el color (en minúsculas): azul\n",
            "Ese color no está en la lista.\n",
            "\n",
            "Intento 2\n",
            "Adivina el color (en minúsculas): naranja\n",
            "El color está en la lista, pero no es el correcto.\n",
            "\n",
            "Intento 3\n",
            "Adivina el color (en minúsculas): piel\n",
            "Ese color no está en la lista.\n",
            "\n",
            "Intento 4\n",
            "Adivina el color (en minúsculas): lila\n",
            "El color está en la lista, pero no es el correcto.\n",
            "\n",
            "Intento 5\n",
            "Adivina el color (en minúsculas): rosa\n",
            "El color está en la lista, pero no es el correcto.\n",
            "\n",
            "Intento 6\n",
            "Adivina el color (en minúsculas): rojo\n",
            "El color está en la lista, pero no es el correcto.\n",
            "\n",
            "Intento 7\n",
            "Adivina el color (en minúsculas): cafe\n",
            "¡Felicidades! Adivinaste el color secreto en 7 intentos.\n",
            "['azul', 'naranja', 'piel', 'lila', 'rosa', 'rojo', 'cafe']\n"
          ]
        }
      ]
    },
    {
      "cell_type": "markdown",
      "source": [
        "21. Desarrolla un programa que muestre los números pares del 1 al 100."
      ],
      "metadata": {
        "id": "JbS81IDWNQN-"
      }
    },
    {
      "cell_type": "code",
      "source": [
        "numeros_pares = [numero for numero in range(1, 101) if numero % 2 == 0]\n",
        "\n",
        "print(\"Números pares del 1 al 100:\")\n",
        "for numero in numeros_pares:\n",
        "    print(numero, end=\" \")\n"
      ],
      "metadata": {
        "colab": {
          "base_uri": "https://localhost:8080/"
        },
        "id": "PTSaBD0qNXig",
        "outputId": "5a3b8d64-0de5-45f5-ec33-c3874186457d"
      },
      "execution_count": 22,
      "outputs": [
        {
          "output_type": "stream",
          "name": "stdout",
          "text": [
            "Números pares del 1 al 100:\n",
            "2 4 6 8 10 12 14 16 18 20 22 24 26 28 30 32 34 36 38 40 42 44 46 48 50 52 54 56 58 60 62 64 66 68 70 72 74 76 78 80 82 84 86 88 90 92 94 96 98 100 "
          ]
        }
      ]
    },
    {
      "cell_type": "markdown",
      "source": [
        "22. Crea un programa que calcule la suma de los dígitos de un número."
      ],
      "metadata": {
        "id": "XdAwZehCNsgR"
      }
    },
    {
      "cell_type": "code",
      "source": [
        "numero = int(input(\"Ingresa un número: \"))\n",
        "\n",
        "numero_str = str(abs(numero))\n",
        "digitos = [int(digito) for digito in numero_str]\n",
        "\n",
        "suma = sum(digitos)\n",
        "\n",
        "print(f\"La suma de los dígitos de {numero} es: {suma}\")"
      ],
      "metadata": {
        "colab": {
          "base_uri": "https://localhost:8080/"
        },
        "id": "-WGc-fCGNwmx",
        "outputId": "4ac4acb4-fddf-4bf9-94f8-2aa2ab236335"
      },
      "execution_count": 23,
      "outputs": [
        {
          "output_type": "stream",
          "name": "stdout",
          "text": [
            "Ingresa un número: 4567\n",
            "La suma de los dígitos de 4567 es: 22\n"
          ]
        }
      ]
    },
    {
      "cell_type": "markdown",
      "source": [
        "23. Escribe un programa que determine si un número es primo."
      ],
      "metadata": {
        "id": "-cY7T473N4Xu"
      }
    },
    {
      "cell_type": "code",
      "source": [
        "numero = int(input(\"Ingresa un número para verificar si es primo: \"))\n",
        "\n",
        "if numero <= 1:\n",
        "    es_primo = False\n",
        "else:\n",
        "    divisores = [i for i in range(2, int(numero**0.5) + 1) if numero % i == 0]\n",
        "    es_primo = len(divisores) == 0\n",
        "\n",
        "if es_primo:\n",
        "    print(f\"{numero} es un número primo.\")\n",
        "else:\n",
        "    print(f\"{numero} no es un número primo.\")"
      ],
      "metadata": {
        "colab": {
          "base_uri": "https://localhost:8080/"
        },
        "id": "_xVs7cKJONWl",
        "outputId": "8c454684-4af7-43ed-87c5-731275556c2d"
      },
      "execution_count": 24,
      "outputs": [
        {
          "output_type": "stream",
          "name": "stdout",
          "text": [
            "Ingresa un número para verificar si es primo: 8\n",
            "8 no es un número primo.\n"
          ]
        }
      ]
    },
    {
      "cell_type": "markdown",
      "source": [
        "24. Desarrolla un programa que muestre el patrón de un triángulo con asteriscos."
      ],
      "metadata": {
        "id": "yR3iJWalOSh1"
      }
    },
    {
      "cell_type": "code",
      "source": [
        "altura = int(input(\"Ingresa la altura del triángulo: \"))\n",
        "\n",
        "triangulo = []\n",
        "for i in range(1, altura + 1):\n",
        "    fila = \"*\" * i\n",
        "    triangulo.append(fila)\n",
        "\n",
        "for fila in triangulo:\n",
        "    print(fila)"
      ],
      "metadata": {
        "colab": {
          "base_uri": "https://localhost:8080/"
        },
        "id": "7O_y37yuOXfF",
        "outputId": "0cfc98a5-80fd-4412-fbfb-1c44d0df2042"
      },
      "execution_count": 27,
      "outputs": [
        {
          "output_type": "stream",
          "name": "stdout",
          "text": [
            "Ingresa la altura del triángulo: 10\n",
            "*\n",
            "**\n",
            "***\n",
            "****\n",
            "*****\n",
            "******\n",
            "*******\n",
            "********\n",
            "*********\n",
            "**********\n"
          ]
        }
      ]
    },
    {
      "cell_type": "markdown",
      "source": [
        "25. Crea un programa que calcule la potencia de un número sin usar el operador **"
      ],
      "metadata": {
        "id": "Qs3ZM-GFOkOB"
      }
    },
    {
      "cell_type": "code",
      "source": [
        "base = float(input(\"Ingresa la base: \"))\n",
        "exponente = int(input(\"Ingresa el exponente (entero): \"))\n",
        "\n",
        "if exponente == 0:\n",
        "    resultado = 1\n",
        "elif exponente < 0:\n",
        "    factores = [base for _ in range(abs(exponente))]\n",
        "    producto = 1\n",
        "    for factor in factores:\n",
        "        producto *= factor\n",
        "    resultado = 1 / producto\n",
        "else:\n",
        "    factores = [base for _ in range(exponente)]\n",
        "    resultado = 1\n",
        "    for factor in factores:\n",
        "        resultado *= factor\n",
        "\n",
        "print(f\"{base} elevado a la {exponente} = {resultado}\")"
      ],
      "metadata": {
        "colab": {
          "base_uri": "https://localhost:8080/"
        },
        "id": "8MnBngA0Oqu3",
        "outputId": "83e30e4e-86c2-4037-89e4-8b4838789fdd"
      },
      "execution_count": 28,
      "outputs": [
        {
          "output_type": "stream",
          "name": "stdout",
          "text": [
            "Ingresa la base: 7\n",
            "Ingresa el exponente (entero): 4\n",
            "7.0 elevado a la 4 = 2401.0\n"
          ]
        }
      ]
    }
  ]
}