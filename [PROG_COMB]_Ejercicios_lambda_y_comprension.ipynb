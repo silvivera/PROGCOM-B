{
  "nbformat": 4,
  "nbformat_minor": 0,
  "metadata": {
    "colab": {
      "provenance": []
    },
    "kernelspec": {
      "name": "python3",
      "display_name": "Python 3"
    },
    "language_info": {
      "name": "python"
    }
  },
  "cells": [
    {
      "cell_type": "markdown",
      "source": [
        "# SILVIA VERA U00182839"
      ],
      "metadata": {
        "id": "002aw16IwdN3"
      }
    },
    {
      "cell_type": "markdown",
      "source": [
        "#Escribe un programa que adivine entre un conjunto de diez colores definidos por el usuario, con un máximo de 10 intentos."
      ],
      "metadata": {
        "id": "1aG8zq3pmSnx"
      }
    },
    {
      "cell_type": "code",
      "source": [
        "#Por comprensión\n",
        "import random\n",
        "\n",
        "colores = [input(f\"Introduce el color {i+1}: \") for i in range(10)]\n",
        "color_secreto = random.choice(colores)\n",
        "intentos = 0\n",
        "\n",
        "while intentos < 10:\n",
        "    intento_usuario = input(\"Adivina el color: \")\n",
        "    intentos += 1\n",
        "    if intento_usuario == color_secreto:\n",
        "        print(f\"¡Felicidades! Adivinaste el color en {intentos} intentos.\")\n",
        "        break\n",
        "    else:\n",
        "        print(f\"Intenta nuevamente. Intentos restantes: {10 - intentos}\")\n",
        "else:\n",
        "    print(f\"Lo siento, el color secreto era {color_secreto}.\")"
      ],
      "metadata": {
        "colab": {
          "base_uri": "https://localhost:8080/"
        },
        "id": "hE-10STQomjw",
        "outputId": "b9fb0c53-4149-4421-c611-1e0f5aac5c71"
      },
      "execution_count": 8,
      "outputs": [
        {
          "output_type": "stream",
          "name": "stdout",
          "text": [
            "Introduce el color 1: azul\n",
            "Introduce el color 2: rojo\n",
            "Introduce el color 3: verde\n",
            "Introduce el color 4: amarillo\n",
            "Introduce el color 5: naranja\n",
            "Introduce el color 6: negro\n",
            "Introduce el color 7: blanco\n",
            "Introduce el color 8: rosa\n",
            "Introduce el color 9: morado\n",
            "Introduce el color 10: marron\n",
            "Adivina el color: azul\n",
            "Intenta nuevamente. Intentos restantes: 9\n",
            "Adivina el color: roj\n",
            "Intenta nuevamente. Intentos restantes: 8\n",
            "Adivina el color: verde\n",
            "Intenta nuevamente. Intentos restantes: 7\n",
            "Adivina el color: amarillo\n",
            "Intenta nuevamente. Intentos restantes: 6\n",
            "Adivina el color: rosa\n",
            "Intenta nuevamente. Intentos restantes: 5\n",
            "Adivina el color: marron\n",
            "¡Felicidades! Adivinaste el color en 6 intentos.\n"
          ]
        }
      ]
    },
    {
      "cell_type": "code",
      "source": [
        "#Por Lambda\n",
        "import random\n",
        "\n",
        "colores = [input(f\"Introduce el color {i+1}: \") for i in range(10)]\n",
        "color_secreto = random.choice(colores)\n",
        "adivinanza = lambda intento: intento == color_secreto\n",
        "intentos = 0\n",
        "\n",
        "while intentos < 10:\n",
        "    intento_usuario = input(\"Adivina el color: \")\n",
        "    intentos += 1\n",
        "    if adivinanza(intento_usuario):\n",
        "        print(f\"¡Felicidades! Adivinaste el color en {intentos} intentos.\")\n",
        "        break\n",
        "    else:\n",
        "        print(f\"Intenta nuevamente. Intentos restantes: {10 - intentos}\")\n",
        "else:\n",
        "    print(f\"Lo siento, el color secreto era {color_secreto}.\")"
      ],
      "metadata": {
        "colab": {
          "base_uri": "https://localhost:8080/"
        },
        "id": "FPkgEfHIpEq5",
        "outputId": "4a7bb6b5-3565-464a-81a7-81a2cd68181e"
      },
      "execution_count": 9,
      "outputs": [
        {
          "output_type": "stream",
          "name": "stdout",
          "text": [
            "Introduce el color 1: rojo\n",
            "Introduce el color 2: azul\n",
            "Introduce el color 3: verde\n",
            "Introduce el color 4: amarillo\n",
            "Introduce el color 5: naranja\n",
            "Introduce el color 6: negro\n",
            "Introduce el color 7: blanco\n",
            "Introduce el color 8: rosa\n",
            "Introduce el color 9: morado\n",
            "Introduce el color 10: marron\n",
            "Adivina el color: rosa\n",
            "Intenta nuevamente. Intentos restantes: 9\n",
            "Adivina el color: morado\n",
            "¡Felicidades! Adivinaste el color en 2 intentos.\n"
          ]
        }
      ]
    },
    {
      "cell_type": "markdown",
      "source": [
        "#Desarrolla un programa que muestre los números pares del 1 al 100"
      ],
      "metadata": {
        "id": "6vT_uBizpc1J"
      }
    },
    {
      "cell_type": "code",
      "source": [
        "# Por comprension\n",
        "for i in range(1, 101):\n",
        "    if i % 2 == 0:\n",
        "        print(i)"
      ],
      "metadata": {
        "colab": {
          "base_uri": "https://localhost:8080/"
        },
        "id": "8m5PIwY7ph9R",
        "outputId": "0915dda4-5873-491f-9686-fa58ee8ac4e3"
      },
      "execution_count": 10,
      "outputs": [
        {
          "output_type": "stream",
          "name": "stdout",
          "text": [
            "2\n",
            "4\n",
            "6\n",
            "8\n",
            "10\n",
            "12\n",
            "14\n",
            "16\n",
            "18\n",
            "20\n",
            "22\n",
            "24\n",
            "26\n",
            "28\n",
            "30\n",
            "32\n",
            "34\n",
            "36\n",
            "38\n",
            "40\n",
            "42\n",
            "44\n",
            "46\n",
            "48\n",
            "50\n",
            "52\n",
            "54\n",
            "56\n",
            "58\n",
            "60\n",
            "62\n",
            "64\n",
            "66\n",
            "68\n",
            "70\n",
            "72\n",
            "74\n",
            "76\n",
            "78\n",
            "80\n",
            "82\n",
            "84\n",
            "86\n",
            "88\n",
            "90\n",
            "92\n",
            "94\n",
            "96\n",
            "98\n",
            "100\n"
          ]
        }
      ]
    },
    {
      "cell_type": "code",
      "source": [
        "# Por lambda\n",
        "list(filter(lambda x: x % 2 == 0, range(1, 101)))"
      ],
      "metadata": {
        "colab": {
          "base_uri": "https://localhost:8080/"
        },
        "id": "8hAnqdoPppIR",
        "outputId": "c3397a42-fbeb-46d3-c057-41b480f8533d"
      },
      "execution_count": 11,
      "outputs": [
        {
          "output_type": "execute_result",
          "data": {
            "text/plain": [
              "[2,\n",
              " 4,\n",
              " 6,\n",
              " 8,\n",
              " 10,\n",
              " 12,\n",
              " 14,\n",
              " 16,\n",
              " 18,\n",
              " 20,\n",
              " 22,\n",
              " 24,\n",
              " 26,\n",
              " 28,\n",
              " 30,\n",
              " 32,\n",
              " 34,\n",
              " 36,\n",
              " 38,\n",
              " 40,\n",
              " 42,\n",
              " 44,\n",
              " 46,\n",
              " 48,\n",
              " 50,\n",
              " 52,\n",
              " 54,\n",
              " 56,\n",
              " 58,\n",
              " 60,\n",
              " 62,\n",
              " 64,\n",
              " 66,\n",
              " 68,\n",
              " 70,\n",
              " 72,\n",
              " 74,\n",
              " 76,\n",
              " 78,\n",
              " 80,\n",
              " 82,\n",
              " 84,\n",
              " 86,\n",
              " 88,\n",
              " 90,\n",
              " 92,\n",
              " 94,\n",
              " 96,\n",
              " 98,\n",
              " 100]"
            ]
          },
          "metadata": {},
          "execution_count": 11
        }
      ]
    },
    {
      "cell_type": "markdown",
      "source": [
        "# Calcular la suma de los dígitos de un número"
      ],
      "metadata": {
        "id": "C1VIXBN2puFp"
      }
    },
    {
      "cell_type": "code",
      "source": [
        "# Por comprensión\n",
        "numero = int(input(\"Introduce un número: \"))\n",
        "suma_digitos = sum([int(digit) for digit in str(numero)])\n",
        "print(f\"La suma de los dígitos es: {suma_digitos}\")"
      ],
      "metadata": {
        "colab": {
          "base_uri": "https://localhost:8080/"
        },
        "id": "sF8x4odtpxCB",
        "outputId": "ba969fdb-8186-49fe-9613-0b91681621c1"
      },
      "execution_count": 12,
      "outputs": [
        {
          "output_type": "stream",
          "name": "stdout",
          "text": [
            "Introduce un número: 867\n",
            "La suma de los dígitos es: 21\n"
          ]
        }
      ]
    },
    {
      "cell_type": "code",
      "source": [
        "# Por Lambda\n",
        "numero = int(input(\"Introduce un número: \"))\n",
        "suma_digitos = sum(map(lambda x: int(x), str(numero)))\n",
        "print(f\"La suma de los dígitos es: {suma_digitos}\")"
      ],
      "metadata": {
        "colab": {
          "base_uri": "https://localhost:8080/"
        },
        "id": "nr2jOjeGp1v7",
        "outputId": "a5dbdd5d-da30-48a1-b3a1-07fa34737000"
      },
      "execution_count": 13,
      "outputs": [
        {
          "output_type": "stream",
          "name": "stdout",
          "text": [
            "Introduce un número: 675\n",
            "La suma de los dígitos es: 18\n"
          ]
        }
      ]
    },
    {
      "cell_type": "markdown",
      "source": [
        "#Determinar si un número es primo"
      ],
      "metadata": {
        "id": "ye58LLgKqIUW"
      }
    },
    {
      "cell_type": "code",
      "source": [
        "# Por comprensión\n",
        "def es_primo(numero):\n",
        "    if numero < 2:\n",
        "        return False\n",
        "    for i in range(2, int(numero**0.5) + 1):\n",
        "        if numero % i == 0:\n",
        "            return False\n",
        "    return True\n",
        "\n",
        "numero = int(input(\"Introduce un número: \"))\n",
        "if es_primo(numero):\n",
        "    print(f\"{numero} es primo.\")\n",
        "else:\n",
        "    print(f\"{numero} no es primo.\")"
      ],
      "metadata": {
        "colab": {
          "base_uri": "https://localhost:8080/"
        },
        "id": "XTqZpQBlqLex",
        "outputId": "f342db16-3d41-4196-c1e8-525fbe112ffb"
      },
      "execution_count": 14,
      "outputs": [
        {
          "output_type": "stream",
          "name": "stdout",
          "text": [
            "Introduce un número: 65\n",
            "65 no es primo.\n"
          ]
        }
      ]
    },
    {
      "cell_type": "code",
      "source": [
        "# Por Lambda\n",
        "es_primo = lambda n: all(n % i != 0 for i in range(2, int(n**0.5) + 1)) if n > 1 else False\n",
        "numero = int(input(\"Introduce un número: \"))\n",
        "if es_primo(numero):\n",
        "    print(f\"{numero} es primo.\")\n",
        "else:\n",
        "    print(f\"{numero} no es primo.\")"
      ],
      "metadata": {
        "colab": {
          "base_uri": "https://localhost:8080/"
        },
        "id": "_EnTD2kBqR4Z",
        "outputId": "ffbcebeb-cbb0-4d00-ca0c-3fbdcc3b8272"
      },
      "execution_count": 15,
      "outputs": [
        {
          "output_type": "stream",
          "name": "stdout",
          "text": [
            "Introduce un número: 66\n",
            "66 no es primo.\n"
          ]
        }
      ]
    },
    {
      "cell_type": "markdown",
      "source": [
        "#Mostrar el patrón de un triángulo con asteriscos"
      ],
      "metadata": {
        "id": "KI8fVHOsqXp0"
      }
    },
    {
      "cell_type": "code",
      "source": [
        "# Por comprensión\n",
        "filas = int(input(\"Introduce el número de filas: \"))\n",
        "for i in range(1, filas + 1):\n",
        "    print('*' * i)"
      ],
      "metadata": {
        "colab": {
          "base_uri": "https://localhost:8080/"
        },
        "id": "UiXQ423bqe9b",
        "outputId": "25f59186-1ffd-4d34-ea97-f10359998bec"
      },
      "execution_count": 16,
      "outputs": [
        {
          "output_type": "stream",
          "name": "stdout",
          "text": [
            "Introduce el número de filas: 8\n",
            "*\n",
            "**\n",
            "***\n",
            "****\n",
            "*****\n",
            "******\n",
            "*******\n",
            "********\n"
          ]
        }
      ]
    },
    {
      "cell_type": "code",
      "source": [
        "# Por lambda\n",
        "filas = int(input(\"Introduce el número de filas: \"))\n",
        "triangulo = lambda filas: list(filter(lambda x: print('*' * x), range(1, filas + 1)))\n",
        "\n",
        "triangulo(filas)"
      ],
      "metadata": {
        "colab": {
          "base_uri": "https://localhost:8080/"
        },
        "id": "OrTRAUPRqkj9",
        "outputId": "e740b546-aa9c-465e-a4ab-13da6619075d"
      },
      "execution_count": 19,
      "outputs": [
        {
          "output_type": "stream",
          "name": "stdout",
          "text": [
            "Introduce el número de filas: 8\n",
            "*\n",
            "**\n",
            "***\n",
            "****\n",
            "*****\n",
            "******\n",
            "*******\n",
            "********\n"
          ]
        },
        {
          "output_type": "execute_result",
          "data": {
            "text/plain": [
              "[]"
            ]
          },
          "metadata": {},
          "execution_count": 19
        }
      ]
    },
    {
      "cell_type": "markdown",
      "source": [
        "# Calcular la potencia de un número sin usar el operador **"
      ],
      "metadata": {
        "id": "00PiWtKvrN_j"
      }
    },
    {
      "cell_type": "code",
      "source": [
        "# Por comprensión\n",
        "base = int(input(\"Introduce la base: \"))\n",
        "exponente = int(input(\"Introduce el exponente: \"))\n",
        "resultado = 1\n",
        "for _ in range(exponente):\n",
        "    resultado *= base\n",
        "print(f\"{base} elevado a {exponente} es {resultado}\")"
      ],
      "metadata": {
        "colab": {
          "base_uri": "https://localhost:8080/"
        },
        "id": "yKiMeOlVrokU",
        "outputId": "4bf15e21-4524-4cb4-8298-9daca1f69133"
      },
      "execution_count": 21,
      "outputs": [
        {
          "output_type": "stream",
          "name": "stdout",
          "text": [
            "Introduce la base: 6\n",
            "Introduce el exponente: 7\n",
            "6 elevado a 7 es 279936\n"
          ]
        }
      ]
    },
    {
      "cell_type": "code",
      "source": [
        "# Por Lambda\n",
        "potencia = lambda base, exponente: reduce(lambda x, _: x * base, range(exponente), 1)\n",
        "from functools import reduce\n",
        "base = int(input(\"Introduce la base: \"))\n",
        "exponente = int(input(\"Introduce el exponente: \"))\n",
        "print(f\"{base} elevado a {exponente} es {potencia(base, exponente)}\")"
      ],
      "metadata": {
        "colab": {
          "base_uri": "https://localhost:8080/"
        },
        "id": "ETBER4Gdr0ME",
        "outputId": "a6fc87f4-fe2b-4c9b-d312-e7a6a3248676"
      },
      "execution_count": 23,
      "outputs": [
        {
          "output_type": "stream",
          "name": "stdout",
          "text": [
            "Introduce la base: 7\n",
            "Introduce el exponente: 2\n",
            "7 elevado a 2 es 49\n"
          ]
        }
      ]
    },
    {
      "cell_type": "markdown",
      "source": [
        "#Mostrar todas las tablas de multiplicar del 1 al 10"
      ],
      "metadata": {
        "id": "CdeNQRYdr6T4"
      }
    },
    {
      "cell_type": "code",
      "source": [
        "# Por comprensión\n",
        "for i in range(1, 11):\n",
        "    print(f\"Tabla de multiplicar del {i}:\")\n",
        "    for j in range(1, 11):\n",
        "        print(f\"{i} x {j} = {i * j}\")\n",
        "    print()"
      ],
      "metadata": {
        "colab": {
          "base_uri": "https://localhost:8080/"
        },
        "id": "l6eJ_jyhsARU",
        "outputId": "42333d1b-435f-4a66-acf5-a68bddc2e614"
      },
      "execution_count": 24,
      "outputs": [
        {
          "output_type": "stream",
          "name": "stdout",
          "text": [
            "Tabla de multiplicar del 1:\n",
            "1 x 1 = 1\n",
            "1 x 2 = 2\n",
            "1 x 3 = 3\n",
            "1 x 4 = 4\n",
            "1 x 5 = 5\n",
            "1 x 6 = 6\n",
            "1 x 7 = 7\n",
            "1 x 8 = 8\n",
            "1 x 9 = 9\n",
            "1 x 10 = 10\n",
            "\n",
            "Tabla de multiplicar del 2:\n",
            "2 x 1 = 2\n",
            "2 x 2 = 4\n",
            "2 x 3 = 6\n",
            "2 x 4 = 8\n",
            "2 x 5 = 10\n",
            "2 x 6 = 12\n",
            "2 x 7 = 14\n",
            "2 x 8 = 16\n",
            "2 x 9 = 18\n",
            "2 x 10 = 20\n",
            "\n",
            "Tabla de multiplicar del 3:\n",
            "3 x 1 = 3\n",
            "3 x 2 = 6\n",
            "3 x 3 = 9\n",
            "3 x 4 = 12\n",
            "3 x 5 = 15\n",
            "3 x 6 = 18\n",
            "3 x 7 = 21\n",
            "3 x 8 = 24\n",
            "3 x 9 = 27\n",
            "3 x 10 = 30\n",
            "\n",
            "Tabla de multiplicar del 4:\n",
            "4 x 1 = 4\n",
            "4 x 2 = 8\n",
            "4 x 3 = 12\n",
            "4 x 4 = 16\n",
            "4 x 5 = 20\n",
            "4 x 6 = 24\n",
            "4 x 7 = 28\n",
            "4 x 8 = 32\n",
            "4 x 9 = 36\n",
            "4 x 10 = 40\n",
            "\n",
            "Tabla de multiplicar del 5:\n",
            "5 x 1 = 5\n",
            "5 x 2 = 10\n",
            "5 x 3 = 15\n",
            "5 x 4 = 20\n",
            "5 x 5 = 25\n",
            "5 x 6 = 30\n",
            "5 x 7 = 35\n",
            "5 x 8 = 40\n",
            "5 x 9 = 45\n",
            "5 x 10 = 50\n",
            "\n",
            "Tabla de multiplicar del 6:\n",
            "6 x 1 = 6\n",
            "6 x 2 = 12\n",
            "6 x 3 = 18\n",
            "6 x 4 = 24\n",
            "6 x 5 = 30\n",
            "6 x 6 = 36\n",
            "6 x 7 = 42\n",
            "6 x 8 = 48\n",
            "6 x 9 = 54\n",
            "6 x 10 = 60\n",
            "\n",
            "Tabla de multiplicar del 7:\n",
            "7 x 1 = 7\n",
            "7 x 2 = 14\n",
            "7 x 3 = 21\n",
            "7 x 4 = 28\n",
            "7 x 5 = 35\n",
            "7 x 6 = 42\n",
            "7 x 7 = 49\n",
            "7 x 8 = 56\n",
            "7 x 9 = 63\n",
            "7 x 10 = 70\n",
            "\n",
            "Tabla de multiplicar del 8:\n",
            "8 x 1 = 8\n",
            "8 x 2 = 16\n",
            "8 x 3 = 24\n",
            "8 x 4 = 32\n",
            "8 x 5 = 40\n",
            "8 x 6 = 48\n",
            "8 x 7 = 56\n",
            "8 x 8 = 64\n",
            "8 x 9 = 72\n",
            "8 x 10 = 80\n",
            "\n",
            "Tabla de multiplicar del 9:\n",
            "9 x 1 = 9\n",
            "9 x 2 = 18\n",
            "9 x 3 = 27\n",
            "9 x 4 = 36\n",
            "9 x 5 = 45\n",
            "9 x 6 = 54\n",
            "9 x 7 = 63\n",
            "9 x 8 = 72\n",
            "9 x 9 = 81\n",
            "9 x 10 = 90\n",
            "\n",
            "Tabla de multiplicar del 10:\n",
            "10 x 1 = 10\n",
            "10 x 2 = 20\n",
            "10 x 3 = 30\n",
            "10 x 4 = 40\n",
            "10 x 5 = 50\n",
            "10 x 6 = 60\n",
            "10 x 7 = 70\n",
            "10 x 8 = 80\n",
            "10 x 9 = 90\n",
            "10 x 10 = 100\n",
            "\n"
          ]
        }
      ]
    },
    {
      "cell_type": "code",
      "source": [
        "# Por Lambda\n",
        "multiplicar = lambda x, y: x * y\n",
        "for i in range(1, 11):\n",
        "    print(f\"Tabla de multiplicar del {i}:\")\n",
        "    list(map(lambda j: print(f\"{i} x {j} = {multiplicar(i, j)}\"), range(1, 11)))\n",
        "    print()\n"
      ],
      "metadata": {
        "colab": {
          "base_uri": "https://localhost:8080/"
        },
        "id": "gj4llBPYsLVk",
        "outputId": "4d318691-b4c7-421b-8ca4-71dffff459d3"
      },
      "execution_count": 25,
      "outputs": [
        {
          "output_type": "stream",
          "name": "stdout",
          "text": [
            "Tabla de multiplicar del 1:\n",
            "1 x 1 = 1\n",
            "1 x 2 = 2\n",
            "1 x 3 = 3\n",
            "1 x 4 = 4\n",
            "1 x 5 = 5\n",
            "1 x 6 = 6\n",
            "1 x 7 = 7\n",
            "1 x 8 = 8\n",
            "1 x 9 = 9\n",
            "1 x 10 = 10\n",
            "\n",
            "Tabla de multiplicar del 2:\n",
            "2 x 1 = 2\n",
            "2 x 2 = 4\n",
            "2 x 3 = 6\n",
            "2 x 4 = 8\n",
            "2 x 5 = 10\n",
            "2 x 6 = 12\n",
            "2 x 7 = 14\n",
            "2 x 8 = 16\n",
            "2 x 9 = 18\n",
            "2 x 10 = 20\n",
            "\n",
            "Tabla de multiplicar del 3:\n",
            "3 x 1 = 3\n",
            "3 x 2 = 6\n",
            "3 x 3 = 9\n",
            "3 x 4 = 12\n",
            "3 x 5 = 15\n",
            "3 x 6 = 18\n",
            "3 x 7 = 21\n",
            "3 x 8 = 24\n",
            "3 x 9 = 27\n",
            "3 x 10 = 30\n",
            "\n",
            "Tabla de multiplicar del 4:\n",
            "4 x 1 = 4\n",
            "4 x 2 = 8\n",
            "4 x 3 = 12\n",
            "4 x 4 = 16\n",
            "4 x 5 = 20\n",
            "4 x 6 = 24\n",
            "4 x 7 = 28\n",
            "4 x 8 = 32\n",
            "4 x 9 = 36\n",
            "4 x 10 = 40\n",
            "\n",
            "Tabla de multiplicar del 5:\n",
            "5 x 1 = 5\n",
            "5 x 2 = 10\n",
            "5 x 3 = 15\n",
            "5 x 4 = 20\n",
            "5 x 5 = 25\n",
            "5 x 6 = 30\n",
            "5 x 7 = 35\n",
            "5 x 8 = 40\n",
            "5 x 9 = 45\n",
            "5 x 10 = 50\n",
            "\n",
            "Tabla de multiplicar del 6:\n",
            "6 x 1 = 6\n",
            "6 x 2 = 12\n",
            "6 x 3 = 18\n",
            "6 x 4 = 24\n",
            "6 x 5 = 30\n",
            "6 x 6 = 36\n",
            "6 x 7 = 42\n",
            "6 x 8 = 48\n",
            "6 x 9 = 54\n",
            "6 x 10 = 60\n",
            "\n",
            "Tabla de multiplicar del 7:\n",
            "7 x 1 = 7\n",
            "7 x 2 = 14\n",
            "7 x 3 = 21\n",
            "7 x 4 = 28\n",
            "7 x 5 = 35\n",
            "7 x 6 = 42\n",
            "7 x 7 = 49\n",
            "7 x 8 = 56\n",
            "7 x 9 = 63\n",
            "7 x 10 = 70\n",
            "\n",
            "Tabla de multiplicar del 8:\n",
            "8 x 1 = 8\n",
            "8 x 2 = 16\n",
            "8 x 3 = 24\n",
            "8 x 4 = 32\n",
            "8 x 5 = 40\n",
            "8 x 6 = 48\n",
            "8 x 7 = 56\n",
            "8 x 8 = 64\n",
            "8 x 9 = 72\n",
            "8 x 10 = 80\n",
            "\n",
            "Tabla de multiplicar del 9:\n",
            "9 x 1 = 9\n",
            "9 x 2 = 18\n",
            "9 x 3 = 27\n",
            "9 x 4 = 36\n",
            "9 x 5 = 45\n",
            "9 x 6 = 54\n",
            "9 x 7 = 63\n",
            "9 x 8 = 72\n",
            "9 x 9 = 81\n",
            "9 x 10 = 90\n",
            "\n",
            "Tabla de multiplicar del 10:\n",
            "10 x 1 = 10\n",
            "10 x 2 = 20\n",
            "10 x 3 = 30\n",
            "10 x 4 = 40\n",
            "10 x 5 = 50\n",
            "10 x 6 = 60\n",
            "10 x 7 = 70\n",
            "10 x 8 = 80\n",
            "10 x 9 = 90\n",
            "10 x 10 = 100\n",
            "\n"
          ]
        }
      ]
    },
    {
      "cell_type": "markdown",
      "source": [
        "# Encontrar números perfectos hasta n"
      ],
      "metadata": {
        "id": "x5E1DngVsRzU"
      }
    },
    {
      "cell_type": "code",
      "source": [
        "# Por comprensión\n",
        "def es_perfecto(n):\n",
        "    return sum(i for i in range(1, n) if n % i == 0) == n\n",
        "\n",
        "n = int(input(\"Introduce un número: \"))\n",
        "for i in range(1, n + 1):\n",
        "    if es_perfecto(i):\n",
        "        print(i)"
      ],
      "metadata": {
        "colab": {
          "base_uri": "https://localhost:8080/"
        },
        "id": "oJqFw6KTsUh_",
        "outputId": "6a04dcf8-fae4-49b0-ceaf-c8c97a04298b"
      },
      "execution_count": 27,
      "outputs": [
        {
          "output_type": "stream",
          "name": "stdout",
          "text": [
            "Introduce un número: 65\n",
            "6\n",
            "28\n"
          ]
        }
      ]
    },
    {
      "cell_type": "code",
      "source": [
        "# Por Lambda\n",
        "es_perfecto = lambda n: sum(i for i in range(1, n) if n % i == 0) == n\n",
        "n = int(input(\"Introduce un número: \"))\n",
        "numeros_perfectos = filter(es_perfecto, range(1, n + 1))\n",
        "for numero in numeros_perfectos:\n",
        "    print(numero)"
      ],
      "metadata": {
        "colab": {
          "base_uri": "https://localhost:8080/"
        },
        "id": "eqc0TTHPsull",
        "outputId": "6c659e48-a7d0-4907-eb4e-34828ed6de9f"
      },
      "execution_count": 31,
      "outputs": [
        {
          "output_type": "stream",
          "name": "stdout",
          "text": [
            "Introduce un número: 65\n",
            "6\n",
            "28\n"
          ]
        }
      ]
    },
    {
      "cell_type": "markdown",
      "source": [
        "# Generar un patrón de diamante con asteriscos"
      ],
      "metadata": {
        "id": "4QONTb6etGN2"
      }
    },
    {
      "cell_type": "code",
      "source": [
        "# Por comprensión\n",
        "filas = int(input(\"Introduce el número de filas: \"))\n",
        "for i in range(1, filas + 1):\n",
        "    print(' ' * (filas - i) + '*' * (2 * i - 1))\n",
        "for i in range(filas - 1, 0, -1):\n",
        "    print(' ' * (filas - i) + '*' * (2 * i - 1))"
      ],
      "metadata": {
        "colab": {
          "base_uri": "https://localhost:8080/"
        },
        "id": "IQFA70_WtQxX",
        "outputId": "f3c234fd-d5b0-4117-96cd-62a94c5fe067"
      },
      "execution_count": 53,
      "outputs": [
        {
          "output_type": "stream",
          "name": "stdout",
          "text": [
            "Introduce el número de filas: 6\n",
            "     *\n",
            "    ***\n",
            "   *****\n",
            "  *******\n",
            " *********\n",
            "***********\n",
            " *********\n",
            "  *******\n",
            "   *****\n",
            "    ***\n",
            "     *\n"
          ]
        }
      ]
    },
    {
      "cell_type": "code",
      "source": [
        "# Por Lambda\n",
        "diamante = lambda filas: list(filter(lambda i: print(' ' * (filas - i) + '*' * (2 * i - 1)), range(1, filas + 1))) + \\\n",
        "                         list(filter(lambda i: print(' ' * (filas - i) + '*' * (2 * i - 1)), range(filas - 1, 0, -1)))\n",
        "\n",
        "filas = int(input(\"Introduce el número de filas: \"))\n",
        "\n",
        "diamante(filas)"
      ],
      "metadata": {
        "colab": {
          "base_uri": "https://localhost:8080/"
        },
        "id": "cgLw37KttZdt",
        "outputId": "9ef14acc-2443-4654-ae6a-e8553aa26b23"
      },
      "execution_count": 35,
      "outputs": [
        {
          "output_type": "stream",
          "name": "stdout",
          "text": [
            "Introduce el número de filas: 6\n",
            "     *\n",
            "    ***\n",
            "   *****\n",
            "  *******\n",
            " *********\n",
            "***********\n",
            " *********\n",
            "  *******\n",
            "   *****\n",
            "    ***\n",
            "     *\n"
          ]
        },
        {
          "output_type": "execute_result",
          "data": {
            "text/plain": [
              "[]"
            ]
          },
          "metadata": {},
          "execution_count": 35
        }
      ]
    },
    {
      "cell_type": "markdown",
      "source": [
        "# Encontrar números Armstrong hasta n"
      ],
      "metadata": {
        "id": "xlerGhuwtpCW"
      }
    },
    {
      "cell_type": "code",
      "source": [
        "# Por comprensión\n",
        "def es_armstrong(n):\n",
        "    num_str = str(n)\n",
        "    return sum(int(digit) ** len(num_str) for digit in num_str) == n\n",
        "\n",
        "n = int(input(\"Introduce un número: \"))\n",
        "for i in range(n):\n",
        "    if es_armstrong(i):\n",
        "        print(i)\n"
      ],
      "metadata": {
        "colab": {
          "base_uri": "https://localhost:8080/"
        },
        "id": "aDOiJEWHtuUO",
        "outputId": "2b4ab57a-314d-4fa1-9b7f-76ec151b78ab"
      },
      "execution_count": 36,
      "outputs": [
        {
          "output_type": "stream",
          "name": "stdout",
          "text": [
            "Introduce un número: 6\n",
            "0\n",
            "1\n",
            "2\n",
            "3\n",
            "4\n",
            "5\n"
          ]
        }
      ]
    },
    {
      "cell_type": "code",
      "source": [
        "# Por Lambda\n",
        "es_armstrong = lambda n: sum(int(digit) ** len(str(n)) for digit in str(n)) == n\n",
        "\n",
        "n = int(input(\"Introduce un número: \"))\n",
        "numeros_armstrong = filter(es_armstrong, range(n))\n",
        "for numero in numeros_armstrong:\n",
        "    print(numero)"
      ],
      "metadata": {
        "colab": {
          "base_uri": "https://localhost:8080/"
        },
        "id": "kGWFj4Nkt0AO",
        "outputId": "fcca441a-6d3f-4f66-9ed5-5c6afa444f60"
      },
      "execution_count": 39,
      "outputs": [
        {
          "output_type": "stream",
          "name": "stdout",
          "text": [
            "Introduce un número: 6\n",
            "0\n",
            "1\n",
            "2\n",
            "3\n",
            "4\n",
            "5\n"
          ]
        }
      ]
    },
    {
      "cell_type": "markdown",
      "source": [
        "# Simular un reloj digital"
      ],
      "metadata": {
        "id": "oHgU58DduKZG"
      }
    },
    {
      "cell_type": "code",
      "source": [
        "# Por comprensión\n",
        "import time\n",
        "\n",
        "segundos = int(input(\"Introduce la cantidad de segundos a contar: \"))\n",
        "for i in range(segundos):\n",
        "    horas, minutos = divmod(i, 3600)\n",
        "    minutos, segundos = divmod(minutos, 60)\n",
        "    print(f\"{horas:02}:{minutos:02}:{segundos:02}\")\n",
        "    time.sleep(1)\n"
      ],
      "metadata": {
        "colab": {
          "base_uri": "https://localhost:8080/"
        },
        "collapsed": true,
        "id": "DfaW8d5-uLbF",
        "outputId": "f55e48d6-9bd3-48e2-f83d-5b0f4fcd32b6"
      },
      "execution_count": 50,
      "outputs": [
        {
          "output_type": "stream",
          "name": "stdout",
          "text": [
            "Introduce la cantidad de segundos a contar: 60\n",
            "00:00:00\n",
            "00:00:01\n",
            "00:00:02\n",
            "00:00:03\n",
            "00:00:04\n",
            "00:00:05\n",
            "00:00:06\n",
            "00:00:07\n",
            "00:00:08\n",
            "00:00:09\n",
            "00:00:10\n",
            "00:00:11\n",
            "00:00:12\n",
            "00:00:13\n",
            "00:00:14\n",
            "00:00:15\n",
            "00:00:16\n",
            "00:00:17\n",
            "00:00:18\n",
            "00:00:19\n",
            "00:00:20\n",
            "00:00:21\n",
            "00:00:22\n",
            "00:00:23\n",
            "00:00:24\n",
            "00:00:25\n",
            "00:00:26\n",
            "00:00:27\n",
            "00:00:28\n",
            "00:00:29\n",
            "00:00:30\n",
            "00:00:31\n",
            "00:00:32\n",
            "00:00:33\n",
            "00:00:34\n",
            "00:00:35\n",
            "00:00:36\n",
            "00:00:37\n",
            "00:00:38\n",
            "00:00:39\n",
            "00:00:40\n",
            "00:00:41\n",
            "00:00:42\n",
            "00:00:43\n",
            "00:00:44\n",
            "00:00:45\n",
            "00:00:46\n",
            "00:00:47\n",
            "00:00:48\n",
            "00:00:49\n",
            "00:00:50\n",
            "00:00:51\n",
            "00:00:52\n",
            "00:00:53\n",
            "00:00:54\n",
            "00:00:55\n",
            "00:00:56\n",
            "00:00:57\n",
            "00:00:58\n",
            "00:00:59\n"
          ]
        }
      ]
    },
    {
      "cell_type": "code",
      "source": [
        "# Por Lambda\n",
        "import time\n",
        "\n",
        "reloj = lambda segundos: (segundos // 3600, (segundos % 3600) // 60, segundos % 60)\n",
        "\n",
        "segundos_totales = int(input(\"Introduce el número de segundos a contar: \"))\n",
        "\n",
        "list(filter(lambda s: print(f\"{reloj(s)[0]:02}:{reloj(s)[1]:02}:{reloj(s)[2]:02}\") or time.sleep(1), range(segundos_totales)))\n"
      ],
      "metadata": {
        "colab": {
          "base_uri": "https://localhost:8080/"
        },
        "id": "so_Xsw-XvkR4",
        "outputId": "cbadf441-52fe-4ec1-fc82-5d69cfbeff5a"
      },
      "execution_count": 52,
      "outputs": [
        {
          "output_type": "stream",
          "name": "stdout",
          "text": [
            "Introduce el número de segundos a contar: 60\n",
            "00:00:00\n",
            "00:00:01\n",
            "00:00:02\n",
            "00:00:03\n",
            "00:00:04\n",
            "00:00:05\n",
            "00:00:06\n",
            "00:00:07\n",
            "00:00:08\n",
            "00:00:09\n",
            "00:00:10\n",
            "00:00:11\n",
            "00:00:12\n",
            "00:00:13\n",
            "00:00:14\n",
            "00:00:15\n",
            "00:00:16\n",
            "00:00:17\n",
            "00:00:18\n",
            "00:00:19\n",
            "00:00:20\n",
            "00:00:21\n",
            "00:00:22\n",
            "00:00:23\n",
            "00:00:24\n",
            "00:00:25\n",
            "00:00:26\n",
            "00:00:27\n",
            "00:00:28\n",
            "00:00:29\n",
            "00:00:30\n",
            "00:00:31\n",
            "00:00:32\n",
            "00:00:33\n",
            "00:00:34\n",
            "00:00:35\n",
            "00:00:36\n",
            "00:00:37\n",
            "00:00:38\n",
            "00:00:39\n",
            "00:00:40\n",
            "00:00:41\n",
            "00:00:42\n",
            "00:00:43\n",
            "00:00:44\n",
            "00:00:45\n",
            "00:00:46\n",
            "00:00:47\n",
            "00:00:48\n",
            "00:00:49\n",
            "00:00:50\n",
            "00:00:51\n",
            "00:00:52\n",
            "00:00:53\n",
            "00:00:54\n",
            "00:00:55\n",
            "00:00:56\n",
            "00:00:57\n",
            "00:00:58\n",
            "00:00:59\n"
          ]
        },
        {
          "output_type": "execute_result",
          "data": {
            "text/plain": [
              "[]"
            ]
          },
          "metadata": {},
          "execution_count": 52
        }
      ]
    }
  ]
}