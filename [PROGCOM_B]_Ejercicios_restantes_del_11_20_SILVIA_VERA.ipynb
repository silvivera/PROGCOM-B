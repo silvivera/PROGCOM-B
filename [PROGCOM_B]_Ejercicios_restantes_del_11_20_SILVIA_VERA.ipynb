{
  "nbformat": 4,
  "nbformat_minor": 0,
  "metadata": {
    "colab": {
      "provenance": []
    },
    "kernelspec": {
      "name": "python3",
      "display_name": "Python 3"
    },
    "language_info": {
      "name": "python"
    }
  },
  "cells": [
    {
      "cell_type": "markdown",
      "source": [
        "##Ejercicios restantes\n",
        "\n",
        "silvia juliana vera lizarazo\n",
        "U00182839"
      ],
      "metadata": {
        "id": "__duhWpe3ZOL"
      }
    },
    {
      "cell_type": "markdown",
      "source": [
        "Escribe un programa que calcule la suma de números naturales hasta n."
      ],
      "metadata": {
        "id": "B6QeqEhm4UFK"
      }
    },
    {
      "cell_type": "code",
      "execution_count": 1,
      "metadata": {
        "colab": {
          "base_uri": "https://localhost:8080/"
        },
        "id": "XAY5DZU32Aq-",
        "outputId": "d40c51c3-c9d9-4e42-91ad-f2335606f7e4"
      },
      "outputs": [
        {
          "output_type": "stream",
          "name": "stdout",
          "text": [
            "Ingrese un número: 7\n",
            "La suma de los números desde 1 hasta 7 es: 28\n"
          ]
        }
      ],
      "source": [
        "# CON FOR\n",
        "n = int(input(\"Ingrese un número: \"))\n",
        "suma = 0\n",
        "for i in range(1, n + 1):\n",
        "    suma += i\n",
        "print(f\"La suma de los números desde 1 hasta {n} es: {suma}\")"
      ]
    },
    {
      "cell_type": "code",
      "source": [
        "#CON WHILE\n",
        "n = int(input(\"Ingrese un número: \"))\n",
        "suma = 0\n",
        "i = 1\n",
        "while i <= n:\n",
        "    suma += i\n",
        "    i += 1\n",
        "print(f\"La suma de los números desde 1 hasta {n} es: {suma}\")"
      ],
      "metadata": {
        "colab": {
          "base_uri": "https://localhost:8080/"
        },
        "id": "03Nn4-qb4g23",
        "outputId": "a45b28b6-f5fc-4888-b62b-31f90cce88a3"
      },
      "execution_count": 2,
      "outputs": [
        {
          "output_type": "stream",
          "name": "stdout",
          "text": [
            "Ingrese un número: 209\n",
            "La suma de los números desde 1 hasta 209 es: 21945\n"
          ]
        }
      ]
    },
    {
      "cell_type": "markdown",
      "source": [
        "Desarrolla un programa que calcule el factorial de un número. Recuerda que el factorial de 0 es 1 y no existen factoriales negativos."
      ],
      "metadata": {
        "id": "0FV-tXEh4uTY"
      }
    },
    {
      "cell_type": "code",
      "source": [
        "#CON FOR\n",
        "num = int(input(\"Introduce un número para calcular su factorial: \"))\n",
        "if num < 0:\n",
        "    print(\"No existen factoriales de números negativos.\")\n",
        "else:\n",
        "    factorial = 1\n",
        "    for i in range(1, num + 1):\n",
        "        factorial *= i\n",
        "    print(f\"El factorial de {num} es: {factorial}\")"
      ],
      "metadata": {
        "colab": {
          "base_uri": "https://localhost:8080/"
        },
        "id": "YnPb_aBZ46Xn",
        "outputId": "c348928f-be3a-4724-8477-b33486d6a0f1"
      },
      "execution_count": 3,
      "outputs": [
        {
          "output_type": "stream",
          "name": "stdout",
          "text": [
            "Introduce un número para calcular su factorial: 8\n",
            "El factorial de 8 es: 40320\n"
          ]
        }
      ]
    },
    {
      "cell_type": "code",
      "source": [
        "#CON WHILE\n",
        "num = int(input(\"Introduce un número para calcular su factorial: \"))\n",
        "if num < 0:\n",
        "    print(\"No existen factoriales de números negativos.\")\n",
        "else:\n",
        "    factorial = 1\n",
        "    contador = 1\n",
        "    if num > 0:\n",
        "        while contador <= num:\n",
        "            factorial *= contador\n",
        "            contador += 1\n",
        "    print(f\"El factorial de {num} es: {factorial}\")"
      ],
      "metadata": {
        "colab": {
          "base_uri": "https://localhost:8080/"
        },
        "id": "vsrLCugb4z-4",
        "outputId": "e170f60f-853d-4b6f-a986-6ecb84e61b64"
      },
      "execution_count": 4,
      "outputs": [
        {
          "output_type": "stream",
          "name": "stdout",
          "text": [
            "Introduce un número para calcular su factorial: 20\n",
            "El factorial de 20 es: 2432902008176640000\n"
          ]
        }
      ]
    },
    {
      "cell_type": "markdown",
      "source": [
        "Crea un programa que muestre los primeros n números de la serie Fibonacci"
      ],
      "metadata": {
        "id": "4k0skhCV5GLW"
      }
    },
    {
      "cell_type": "code",
      "source": [
        "#CON FOR\n",
        "n = int(input(\"¿Cuántos números de la serie Fibonacci desea generar? \"))\n",
        "a = 0\n",
        "b = 1\n",
        "\n",
        "if n <= 0:\n",
        "    print(\"Por favor ingrese un número positivo\")\n",
        "elif n == 1:\n",
        "    print(\"Serie Fibonacci hasta\", n, \":\")\n",
        "    print(a)\n",
        "else:\n",
        "    print(\"Serie Fibonacci hasta\", n, \":\")\n",
        "    print(a, end=\" \")\n",
        "\n",
        "    for i in range(n-1):\n",
        "        print(b, end=\" \")\n",
        "        siguiente = a + b\n",
        "        a = b\n",
        "        b = siguiente"
      ],
      "metadata": {
        "colab": {
          "base_uri": "https://localhost:8080/"
        },
        "id": "NZPud69a5J0D",
        "outputId": "1ff49059-79de-485f-991c-e388ec60c540"
      },
      "execution_count": 5,
      "outputs": [
        {
          "output_type": "stream",
          "name": "stdout",
          "text": [
            "¿Cuántos números de la serie Fibonacci desea generar? 20\n",
            "Serie Fibonacci hasta 20 :\n",
            "0 1 1 2 3 5 8 13 21 34 55 89 144 233 377 610 987 1597 2584 4181 "
          ]
        }
      ]
    },
    {
      "cell_type": "code",
      "source": [
        "#CON WHILE\n",
        "n = int(input(\"¿Cuántos números de la serie Fibonacci desea generar? \"))\n",
        "a = 0\n",
        "b = 1\n",
        "contador = 1\n",
        "\n",
        "if n <= 0:\n",
        "    print(\"Por favor ingrese un número positivo\")\n",
        "elif n == 1:\n",
        "    print(\"Serie Fibonacci hasta\", n, \":\")\n",
        "    print(a)\n",
        "else:\n",
        "    print(\"Serie Fibonacci hasta\", n, \":\")\n",
        "    print(a, end=\" \")\n",
        "\n",
        "    while contador < n:\n",
        "        print(b, end=\" \")\n",
        "        siguiente = a + b\n",
        "        a = b\n",
        "        b = siguiente\n",
        "        contador += 1"
      ],
      "metadata": {
        "colab": {
          "base_uri": "https://localhost:8080/"
        },
        "id": "WXKdLvA35Qoy",
        "outputId": "8c48e8d9-1a55-42ca-81ea-d1e87de000ee"
      },
      "execution_count": 9,
      "outputs": [
        {
          "output_type": "stream",
          "name": "stdout",
          "text": [
            "¿Cuántos números de la serie Fibonacci desea generar? 37\n",
            "Serie Fibonacci hasta 37 :\n",
            "0 1 1 2 3 5 8 13 21 34 55 89 144 233 377 610 987 1597 2584 4181 6765 10946 17711 28657 46368 75025 121393 196418 317811 514229 832040 1346269 2178309 3524578 5702887 9227465 14930352 "
          ]
        }
      ]
    },
    {
      "cell_type": "markdown",
      "source": [
        "Escribe un programa que adivine entre un conjunto de diez colores definidos por el usuario, con un máximo de 10 intentos."
      ],
      "metadata": {
        "id": "v1iPyM8M5hZy"
      }
    },
    {
      "cell_type": "code",
      "source": [
        "# CON FOR\n",
        "import random\n",
        "colores = [\"rojo\", \"azul\", \"verde\", \"amarillo\", \"negro\", \"blanco\", \"naranja\", \"morado\", \"rosa\", \"gris\"]\n",
        "color_secreto = random.choice(colores)\n",
        "adivinado = False\n",
        "print(\"Bienvenido al juego de adivinar el color!\")\n",
        "print(\"Estoy pensando en uno de estos colores:\")\n",
        "for color in colores:\n",
        "    print(\"- \" + color)\n",
        "print(\"Tienes 10 intentos para adivinar.\")\n",
        "for intento_numero in range(10):\n",
        "    intento = input(f\"\\nIntento {intento_numero + 1}: ¿Qué color estoy pensando? \")\n",
        "    intento = intento.lower()\n",
        "    if intento == color_secreto:\n",
        "        print(f\"¡Correcto! Has adivinado en {intento_numero + 1} intentos. \\U0001F618\")\n",
        "        adivinado = True\n",
        "        break\n",
        "    else:\n",
        "        print(\"Incorrecto. Intenta de nuevo.\")\n",
        "        intentos_restantes = 10 - (intento_numero + 1)\n",
        "        print(f\"Te quedan {intentos_restantes} intentos.\")\n",
        "if not adivinado:\n",
        "    print(f\"\\nSe acabaron los intentos. El color era: {color_secreto}\")"
      ],
      "metadata": {
        "colab": {
          "base_uri": "https://localhost:8080/"
        },
        "id": "h6K6JfY16y-b",
        "outputId": "6f6e33e1-7909-433e-86d2-adb4a8ddd77b"
      },
      "execution_count": 16,
      "outputs": [
        {
          "output_type": "stream",
          "name": "stdout",
          "text": [
            "Bienvenido al juego de adivinar el color!\n",
            "Estoy pensando en uno de estos colores:\n",
            "- rojo\n",
            "- azul\n",
            "- verde\n",
            "- amarillo\n",
            "- negro\n",
            "- blanco\n",
            "- naranja\n",
            "- morado\n",
            "- rosa\n",
            "- gris\n",
            "Tienes 10 intentos para adivinar.\n",
            "\n",
            "Intento 1: ¿Qué color estoy pensando? blanco\n",
            "Incorrecto. Intenta de nuevo.\n",
            "Te quedan 9 intentos.\n",
            "\n",
            "Intento 2: ¿Qué color estoy pensando? naranja\n",
            "Incorrecto. Intenta de nuevo.\n",
            "Te quedan 8 intentos.\n",
            "\n",
            "Intento 3: ¿Qué color estoy pensando? azul\n",
            "Incorrecto. Intenta de nuevo.\n",
            "Te quedan 7 intentos.\n",
            "\n",
            "Intento 4: ¿Qué color estoy pensando? morado\n",
            "¡Correcto! Has adivinado en 4 intentos. 😘\n"
          ]
        }
      ]
    },
    {
      "cell_type": "code",
      "source": [
        "#CON WHILE\n",
        "import random\n",
        "colores = [\"rojo\", \"azul\", \"verde\", \"amarillo\", \"negro\", \"blanco\", \"naranja\", \"morado\", \"rosa\", \"gris\"]\n",
        "color_secreto = random.choice(colores)\n",
        "intentos = 0\n",
        "maximo_intentos = 10\n",
        "adivinado = False\n",
        "print(\"Bienvenido al juego de adivinar el color!\")\n",
        "print(\"Estoy pensando en uno de estos colores:\")\n",
        "for color in colores:\n",
        "    print(\"- \" + color)\n",
        "print(f\"Tienes {maximo_intentos} intentos para adivinar.\")\n",
        "while intentos < maximo_intentos and not adivinado:\n",
        "    intento = input(f\"\\nIntento {intentos + 1}: ¿Qué color estoy pensando? \")\n",
        "    intento = intento.lower()\n",
        "\n",
        "    intentos = intentos + 1\n",
        "    if intento == color_secreto:\n",
        "        print(f\"¡Correcto! Has adivinado en {intentos} intentos. \\U0001F618\")\n",
        "        adivinado = True\n",
        "    else:\n",
        "        print(\"Incorrecto. Intenta de nuevo.\")\n",
        "        intentos_restantes = maximo_intentos - intentos\n",
        "        print(f\"Te quedan {intentos_restantes} intentos.\")\n",
        "if not adivinado:\n",
        "    print(f\"\\nSe acabaron los intentos. El color era: {color_secreto}\")"
      ],
      "metadata": {
        "colab": {
          "base_uri": "https://localhost:8080/"
        },
        "id": "ljCGa0-G8Zde",
        "outputId": "8564c5ce-a949-41d3-86cc-cae21d9f4e0f"
      },
      "execution_count": 15,
      "outputs": [
        {
          "output_type": "stream",
          "name": "stdout",
          "text": [
            "Bienvenido al juego de adivinar el color!\n",
            "Estoy pensando en uno de estos colores:\n",
            "- rojo\n",
            "- azul\n",
            "- verde\n",
            "- amarillo\n",
            "- negro\n",
            "- blanco\n",
            "- naranja\n",
            "- morado\n",
            "- rosa\n",
            "- gris\n",
            "Tienes 10 intentos para adivinar.\n",
            "\n",
            "Intento 1: ¿Qué color estoy pensando? rojo\n",
            "Incorrecto. Intenta de nuevo.\n",
            "Te quedan 9 intentos.\n",
            "\n",
            "Intento 2: ¿Qué color estoy pensando? morado\n",
            "Incorrecto. Intenta de nuevo.\n",
            "Te quedan 8 intentos.\n",
            "\n",
            "Intento 3: ¿Qué color estoy pensando? gris\n",
            "Incorrecto. Intenta de nuevo.\n",
            "Te quedan 7 intentos.\n",
            "\n",
            "Intento 4: ¿Qué color estoy pensando? rosa\n",
            "Incorrecto. Intenta de nuevo.\n",
            "Te quedan 6 intentos.\n",
            "\n",
            "Intento 5: ¿Qué color estoy pensando? azul\n",
            "Incorrecto. Intenta de nuevo.\n",
            "Te quedan 5 intentos.\n",
            "\n",
            "Intento 6: ¿Qué color estoy pensando? amarillo\n",
            "Incorrecto. Intenta de nuevo.\n",
            "Te quedan 4 intentos.\n",
            "\n",
            "Intento 7: ¿Qué color estoy pensando? naranja\n",
            "Incorrecto. Intenta de nuevo.\n",
            "Te quedan 3 intentos.\n",
            "\n",
            "Intento 8: ¿Qué color estoy pensando? marron\n",
            "Incorrecto. Intenta de nuevo.\n",
            "Te quedan 2 intentos.\n",
            "\n",
            "Intento 9: ¿Qué color estoy pensando? verde\n",
            "Incorrecto. Intenta de nuevo.\n",
            "Te quedan 1 intentos.\n",
            "\n",
            "Intento 10: ¿Qué color estoy pensando? blanco\n",
            "Incorrecto. Intenta de nuevo.\n",
            "Te quedan 0 intentos.\n",
            "\n",
            "Se acabaron los intentos. El color era: negro\n"
          ]
        }
      ]
    }
  ]
}