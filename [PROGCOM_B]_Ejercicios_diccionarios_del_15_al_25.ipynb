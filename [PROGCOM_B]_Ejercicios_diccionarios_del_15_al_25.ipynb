{
  "nbformat": 4,
  "nbformat_minor": 0,
  "metadata": {
    "colab": {
      "provenance": []
    },
    "kernelspec": {
      "name": "python3",
      "display_name": "Python 3"
    },
    "language_info": {
      "name": "python"
    }
  },
  "cells": [
    {
      "cell_type": "markdown",
      "source": [
        "SILVIA JULIANA VERA\n",
        "U00182839"
      ],
      "metadata": {
        "id": "Sn2yukPdouv6"
      }
    },
    {
      "cell_type": "markdown",
      "source": [
        "## 15. Desarrolla un programa que valide si tres números pueden formar un triángulo y de qué tipo es."
      ],
      "metadata": {
        "id": "05mICJOmgN6Q"
      }
    },
    {
      "cell_type": "code",
      "source": [
        "def tipo_triangulo(lados):\n",
        "  a = lados['a']\n",
        "  b = lados['b']\n",
        "  c = lados['c']\n",
        "\n",
        "  if a + b > c and a + c > b and b + c > a:\n",
        "    if a == b == c:\n",
        "      return \"Es un triángulo equilátero.\"\n",
        "    elif a == b or a == c or b == c:\n",
        "      return \"Es un triángulo isósceles.\"\n",
        "    else:\n",
        "      return \"Es un triángulo escaleno.\"\n",
        "  else:\n",
        "    return \"Estas longitudes no pueden formar un triángulo.\"\n",
        "\n",
        "lados_triangulo = {}\n",
        "lados_triangulo['a'] = float(input(\"Ingresa la longitud del lado a: \"))\n",
        "lados_triangulo['b'] = float(input(\"Ingresa la longitud del lado b: \"))\n",
        "lados_triangulo['c'] = float(input(\"Ingresa la longitud del lado c: \"))\n",
        "\n",
        "resultado = tipo_triangulo(lados_triangulo)\n",
        "resultado"
      ],
      "metadata": {
        "colab": {
          "base_uri": "https://localhost:8080/",
          "height": 87
        },
        "id": "3HGpDiPrg96Z",
        "outputId": "e4bb4f7f-d5cc-449c-f420-9917b9441541"
      },
      "execution_count": 11,
      "outputs": [
        {
          "name": "stdout",
          "output_type": "stream",
          "text": [
            "Ingresa la longitud del lado a: 7\n",
            "Ingresa la longitud del lado b: 7\n",
            "Ingresa la longitud del lado c: 7\n"
          ]
        },
        {
          "output_type": "execute_result",
          "data": {
            "text/plain": [
              "'Es un triángulo equilátero.'"
            ],
            "application/vnd.google.colaboratory.intrinsic+json": {
              "type": "string"
            }
          },
          "metadata": {},
          "execution_count": 11
        }
      ]
    },
    {
      "cell_type": "markdown",
      "source": [
        "## 16. Crea un programa que muestre la tabla de multiplicar de un número hasta el 10."
      ],
      "metadata": {
        "id": "UxkdGcXViKKh"
      }
    },
    {
      "cell_type": "code",
      "source": [
        "def tabla_multiplicar(numero):\n",
        "  tabla = {}\n",
        "  for i in range(1, 11):\n",
        "    tabla[i] = numero * i\n",
        "  return tabla\n",
        "\n",
        "numero = int(input(\"Ingresa un número para mostrar su tabla de multiplicar: \"))\n",
        "resultado = tabla_multiplicar(numero)\n",
        "\n",
        "for i, producto in resultado.items():\n",
        "  print(f\"{numero} x {i} = {producto}\")\n"
      ],
      "metadata": {
        "colab": {
          "base_uri": "https://localhost:8080/"
        },
        "id": "XgqImHbHitJ4",
        "outputId": "0c19db98-3223-42da-d2d3-6b82a6322e9d"
      },
      "execution_count": 13,
      "outputs": [
        {
          "output_type": "stream",
          "name": "stdout",
          "text": [
            "Ingresa un número para mostrar su tabla de multiplicar: 7\n",
            "7 x 1 = 7\n",
            "7 x 2 = 14\n",
            "7 x 3 = 21\n",
            "7 x 4 = 28\n",
            "7 x 5 = 35\n",
            "7 x 6 = 42\n",
            "7 x 7 = 49\n",
            "7 x 8 = 56\n",
            "7 x 9 = 63\n",
            "7 x 10 = 70\n"
          ]
        }
      ]
    },
    {
      "cell_type": "markdown",
      "source": [
        "## 17. Escribe un programa que calcule la suma de números naturales hasta n."
      ],
      "metadata": {
        "id": "4TK1fUHAjJRG"
      }
    },
    {
      "cell_type": "code",
      "source": [
        "def suma_naturales(n):\n",
        "  suma = 0\n",
        "  for i in range(1, n + 1):\n",
        "    suma += i\n",
        "  return suma\n",
        "\n",
        "n = int(input(\"Ingresa un número natural: \"))\n",
        "resultado = suma_naturales(n)\n",
        "print(f\"La suma de los números naturales hasta {n} es: {resultado}\")"
      ],
      "metadata": {
        "colab": {
          "base_uri": "https://localhost:8080/"
        },
        "id": "HnD2QmxjjN0-",
        "outputId": "acb1780f-63b7-44df-fa5c-6ba195eef0f3"
      },
      "execution_count": 15,
      "outputs": [
        {
          "output_type": "stream",
          "name": "stdout",
          "text": [
            "Ingresa un número natural: 7\n",
            "La suma de los números naturales hasta 7 es: 28\n"
          ]
        }
      ]
    },
    {
      "cell_type": "markdown",
      "source": [
        "18. Desarrolla un programa que calcule el factorial de un número. Recuerda que el factorial de 0 es 1 y no existen factoriales negativos."
      ],
      "metadata": {
        "id": "XjnP9XUAjZSd"
      }
    },
    {
      "cell_type": "code",
      "source": [
        "def factorial(n):\n",
        "  if n < 0:\n",
        "    return \"No existe factorial para números negativos.\"\n",
        "  elif n == 0:\n",
        "    return 1\n",
        "  else:\n",
        "    fact = 1\n",
        "    for i in range(1, n + 1):\n",
        "      fact *= i\n",
        "    return fact\n",
        "\n",
        "numero = int(input(\"Ingresa un número para calcular su factorial: \"))\n",
        "resultado = factorial(numero)\n",
        "print(f\"El factorial de {numero} es: {resultado}\")"
      ],
      "metadata": {
        "colab": {
          "base_uri": "https://localhost:8080/"
        },
        "id": "1tQDOOdhjpr9",
        "outputId": "6aac3d91-a1e4-4982-f904-caef3f47ca4c"
      },
      "execution_count": 16,
      "outputs": [
        {
          "output_type": "stream",
          "name": "stdout",
          "text": [
            "Ingresa un número para calcular su factorial: 7\n",
            "El factorial de 7 es: 5040\n"
          ]
        }
      ]
    },
    {
      "cell_type": "markdown",
      "source": [
        "##19. Crea un programa que muestre los primeros n números de la serie Fibonacci."
      ],
      "metadata": {
        "id": "R9S7Bbmrjsld"
      }
    },
    {
      "cell_type": "code",
      "source": [
        "def fibonacci(n):\n",
        "    fibo = {0: 0, 1: 1}\n",
        "    for i in range(2, n):\n",
        "        fibo[i] = fibo[i - 1] + fibo[i - 2]\n",
        "    return fibo\n",
        "n = int(input(\"Ingrese cuántos números de la serie Fibonacci desea mostrar: \"))\n",
        "resultado = fibonacci(n)\n",
        "print(\"Serie Fibonacci hasta el término\", n, \":\", list(resultado.values()))"
      ],
      "metadata": {
        "colab": {
          "base_uri": "https://localhost:8080/"
        },
        "id": "VojpEle-jwvt",
        "outputId": "4a7132d9-ac00-46c4-b38b-1c6c985d3a6c"
      },
      "execution_count": 50,
      "outputs": [
        {
          "output_type": "stream",
          "name": "stdout",
          "text": [
            "Ingrese cuántos números de la serie Fibonacci desea mostrar: 9\n",
            "Serie Fibonacci hasta el término 9 : [0, 1, 1, 2, 3, 5, 8, 13, 21]\n"
          ]
        }
      ]
    },
    {
      "cell_type": "markdown",
      "source": [
        "## 20. Escribe un programa que adivine entre un conjunto de diez colores definidos por el usuario, con un máximo de 10 intentos."
      ],
      "metadata": {
        "id": "P9OcTsduj9zt"
      }
    },
    {
      "cell_type": "code",
      "source": [
        "import random\n",
        "\n",
        "def adivina_color():\n",
        "    \"\"\"Juego para adivinar un color de una lista proporcionada por el usuario.\"\"\"\n",
        "\n",
        "    colores = {}\n",
        "    for i in range(10):\n",
        "        color = input(f\"Ingresa el color #{i+1}: \")\n",
        "        colores[i] = color\n",
        "\n",
        "    color_secreto = random.choice(list(colores.values()))\n",
        "    intentos = 0\n",
        "    adivinado = False\n",
        "\n",
        "    print(\"\\n¡Adivina el color secreto!\")\n",
        "\n",
        "    while intentos < 10 and not adivinado:\n",
        "        intento = input(f\"Intento {intentos+1} (de 10): \")\n",
        "        intentos += 1\n",
        "\n",
        "        if intento.lower() == color_secreto.lower():\n",
        "            print(f\"¡Correcto! El color secreto era {color_secreto}. Adivinaste en {intentos} intentos.\")\n",
        "            adivinado = True\n",
        "        else:\n",
        "            print(\"Incorrecto. Intenta de nuevo.\")\n",
        "\n",
        "    if not adivinado:\n",
        "        print(f\"Agotaste tus intentos. El color secreto era {color_secreto}.\")\n",
        "\n",
        "adivina_color()\n"
      ],
      "metadata": {
        "colab": {
          "base_uri": "https://localhost:8080/"
        },
        "id": "r7TOIargkB79",
        "outputId": "2a1e625c-8f22-4ee8-8350-9bcb97b95356"
      },
      "execution_count": 18,
      "outputs": [
        {
          "output_type": "stream",
          "name": "stdout",
          "text": [
            "Ingresa el color #1: azul\n",
            "Ingresa el color #2: rojo\n",
            "Ingresa el color #3: rosa\n",
            "Ingresa el color #4: morado\n",
            "Ingresa el color #5: blanco\n",
            "Ingresa el color #6: negro\n",
            "Ingresa el color #7: lila\n",
            "Ingresa el color #8: verde\n",
            "Ingresa el color #9: piel\n",
            "Ingresa el color #10: marron\n",
            "\n",
            "¡Adivina el color secreto!\n",
            "Intento 1 (de 10): marron\n",
            "Incorrecto. Intenta de nuevo.\n",
            "Intento 2 (de 10): azul\n",
            "Incorrecto. Intenta de nuevo.\n",
            "Intento 3 (de 10): lila\n",
            "Incorrecto. Intenta de nuevo.\n",
            "Intento 4 (de 10): morado\n",
            "Incorrecto. Intenta de nuevo.\n",
            "Intento 5 (de 10): rosa\n",
            "Incorrecto. Intenta de nuevo.\n",
            "Intento 6 (de 10): rojo\n",
            "Incorrecto. Intenta de nuevo.\n",
            "Intento 7 (de 10): verde\n",
            "Incorrecto. Intenta de nuevo.\n",
            "Intento 8 (de 10): blanco\n",
            "¡Correcto! El color secreto era blanco. Adivinaste en 8 intentos.\n"
          ]
        }
      ]
    },
    {
      "cell_type": "markdown",
      "source": [
        "## 21. Desarrolla un programa que muestre los números pares del 1 al 100."
      ],
      "metadata": {
        "id": "PRBe9Gk0kVa0"
      }
    },
    {
      "cell_type": "code",
      "source": [
        "def numeros_pares():\n",
        "    pares = {}\n",
        "    for i in range(2, 101, 2):\n",
        "        pares[i] = i\n",
        "    return pares\n",
        "resultado = numeros_pares()\n",
        "print(\"Números pares del 1 al 100:\", list(resultado.values()))"
      ],
      "metadata": {
        "colab": {
          "base_uri": "https://localhost:8080/"
        },
        "id": "8EPYhfC0kas4",
        "outputId": "a5afa21c-e523-4024-e689-38cfb9f8fbe2"
      },
      "execution_count": 49,
      "outputs": [
        {
          "output_type": "stream",
          "name": "stdout",
          "text": [
            "Números pares del 1 al 100: [2, 4, 6, 8, 10, 12, 14, 16, 18, 20, 22, 24, 26, 28, 30, 32, 34, 36, 38, 40, 42, 44, 46, 48, 50, 52, 54, 56, 58, 60, 62, 64, 66, 68, 70, 72, 74, 76, 78, 80, 82, 84, 86, 88, 90, 92, 94, 96, 98, 100]\n"
          ]
        }
      ]
    },
    {
      "cell_type": "markdown",
      "source": [
        "## 22. Crea un programa que calcule la suma de los dígitos de un número."
      ],
      "metadata": {
        "id": "RZ8yUFW5k4b9"
      }
    },
    {
      "cell_type": "code",
      "source": [
        "def suma_digitos(numero):\n",
        "    suma = 0\n",
        "    for digito in str(numero):\n",
        "        suma += int(digito)\n",
        "    return suma\n",
        "\n",
        "numero = int(input(\"Ingresa un número: \"))\n",
        "resultado = suma_digitos(numero)\n",
        "print(f\"La suma de los dígitos de {numero} es: {resultado}\")\n"
      ],
      "metadata": {
        "colab": {
          "base_uri": "https://localhost:8080/"
        },
        "id": "b2PuDv6pk7yO",
        "outputId": "43a2750b-c2b6-4fd7-ed1b-6a6a27aa7ff7"
      },
      "execution_count": 25,
      "outputs": [
        {
          "output_type": "stream",
          "name": "stdout",
          "text": [
            "Ingresa un número: 567\n",
            "La suma de los dígitos de 567 es: 18\n"
          ]
        }
      ]
    },
    {
      "cell_type": "markdown",
      "source": [
        "## 23. Escribe un programa que determine si un número es primo."
      ],
      "metadata": {
        "id": "1NpDQTv-lFa0"
      }
    },
    {
      "cell_type": "code",
      "source": [
        "def es_primo(numero):\n",
        "    if numero <= 1:\n",
        "        return False\n",
        "    for i in range(2, int(numero**0.5) + 1):\n",
        "        if numero % i == 0:\n",
        "            return False\n",
        "    return True\n",
        "\n",
        "numero = int(input(\"Ingresa un número: \"))\n",
        "if es_primo(numero):\n",
        "    print(f\"{numero} es un número primo.\")\n",
        "else:\n",
        "    print(f\"{numero} no es un número primo.\")"
      ],
      "metadata": {
        "colab": {
          "base_uri": "https://localhost:8080/"
        },
        "id": "AXwJjsZulQS8",
        "outputId": "b6124256-88a7-4312-bb14-d8f0f636d7b7"
      },
      "execution_count": 26,
      "outputs": [
        {
          "output_type": "stream",
          "name": "stdout",
          "text": [
            "Ingresa un número: 13\n",
            "13 es un número primo.\n"
          ]
        }
      ]
    },
    {
      "cell_type": "markdown",
      "source": [
        "## 24. Desarrolla un programa que muestre el patrón de un triángulo con asteriscos."
      ],
      "metadata": {
        "id": "hADBOI2dlSbc"
      }
    },
    {
      "cell_type": "code",
      "source": [
        "def triangulo_asteriscos(n):\n",
        "  \"\"\"Muestra un patrón de triángulo con asteriscos.\"\"\"\n",
        "  for i in range(1, n + 1):\n",
        "    print(\"*\" * i)\n",
        "num_filas = int(input(\"Ingresa el número de filas para el triángulo: \"))\n",
        "triangulo_asteriscos(num_filas)\n"
      ],
      "metadata": {
        "colab": {
          "base_uri": "https://localhost:8080/"
        },
        "id": "gEr2yvtelXHN",
        "outputId": "43b978c2-5265-406b-f63d-1aa4a2926e0f"
      },
      "execution_count": 28,
      "outputs": [
        {
          "output_type": "stream",
          "name": "stdout",
          "text": [
            "Ingresa el número de filas para el triángulo: 8\n",
            "*\n",
            "**\n",
            "***\n",
            "****\n",
            "*****\n",
            "******\n",
            "*******\n",
            "********\n"
          ]
        }
      ]
    },
    {
      "cell_type": "markdown",
      "source": [
        "## 25. Crea un programa que calcule la potencia de un número sin usar el operador **."
      ],
      "metadata": {
        "id": "wjFGzF9ClhCt"
      }
    },
    {
      "cell_type": "code",
      "source": [
        "def potencia(base, exponente):\n",
        "  \"\"\"Calcula la potencia de un número sin usar el operador **.\"\"\"\n",
        "  if exponente == 0:\n",
        "    return 1\n",
        "  elif exponente < 0:\n",
        "    return 1 / potencia(base, -exponente)\n",
        "  else:\n",
        "    resultado = 1\n",
        "    for _ in range(exponente):\n",
        "      resultado *= base\n",
        "    return resultado\n",
        "\n",
        "base = int(input(\"Ingresa la base: \"))\n",
        "exponente = int(input(\"Ingresa el exponente: \"))\n",
        "resultado = potencia(base, exponente)\n",
        "print(f\"{base} elevado a la {exponente} es: {resultado}\")"
      ],
      "metadata": {
        "colab": {
          "base_uri": "https://localhost:8080/"
        },
        "id": "LRcQ8iktlkmc",
        "outputId": "f367f925-a2c8-40b5-eddf-c3184de0df6f"
      },
      "execution_count": 30,
      "outputs": [
        {
          "output_type": "stream",
          "name": "stdout",
          "text": [
            "Ingresa la base: 7\n",
            "Ingresa el exponente: 8\n",
            "7 elevado a la 8 es: 5764801\n"
          ]
        }
      ]
    },
    {
      "cell_type": "markdown",
      "source": [
        "## Ejercicios 1-3 Telegram"
      ],
      "metadata": {
        "id": "qTBarDqol6NT"
      }
    },
    {
      "cell_type": "markdown",
      "source": [
        "1. Todos los numeros divisibles por 6 del 1 al 60"
      ],
      "metadata": {
        "id": "Vhm3t1JcmHNT"
      }
    },
    {
      "cell_type": "code",
      "source": [
        "def divisibles_por_seis():\n",
        "  divisibles = {}\n",
        "  for i in range(1, 61):\n",
        "    if i % 6 == 0:\n",
        "      divisibles[i] = i\n",
        "  return divisibles\n",
        "\n",
        "numeros_divisibles = divisibles_por_seis()\n",
        "for numero, valor in numeros_divisibles.items():\n",
        "    print(f\"{numero}\", end=\" \")\n"
      ],
      "metadata": {
        "colab": {
          "base_uri": "https://localhost:8080/"
        },
        "id": "1VwvvaFxmC1D",
        "outputId": "dbc504fc-3970-4690-8bc3-57d6ecb4c4d8"
      },
      "execution_count": 32,
      "outputs": [
        {
          "output_type": "stream",
          "name": "stdout",
          "text": [
            "6 12 18 24 30 36 42 48 54 60 "
          ]
        }
      ]
    },
    {
      "cell_type": "markdown",
      "source": [
        "2.  Todos los nombres que empiecen por \"A\" de una lista de nombres"
      ],
      "metadata": {
        "id": "vXEEGavnmj4M"
      }
    },
    {
      "cell_type": "code",
      "source": [
        "def nombres_con_a(nombres):\n",
        "    nombres_a = {}\n",
        "    for nombre in nombres:\n",
        "        if nombre.startswith(\"A\"):\n",
        "            nombres_a[nombre] = nombre\n",
        "    return nombres_a\n",
        "nombres = [\"Armando\", \"Alberto\", \"Beatriz\", \"Alejandro\", \"Alicia\", \"Carlos\", \"Anabel\"]\n",
        "resultado = nombres_con_a(nombres)\n",
        "print(\"Nombres que empiezan por 'A':\", list(resultado.values()))"
      ],
      "metadata": {
        "colab": {
          "base_uri": "https://localhost:8080/"
        },
        "id": "7FbuA3jbnY3D",
        "outputId": "59bd2851-fa0c-48bc-9519-7d8de391a951"
      },
      "execution_count": 47,
      "outputs": [
        {
          "output_type": "stream",
          "name": "stdout",
          "text": [
            "Nombres que empiezan por 'A': ['Armando', 'Alberto', 'Alejandro', 'Alicia', 'Anabel']\n"
          ]
        }
      ]
    },
    {
      "cell_type": "markdown",
      "source": [
        "3. Todos los numeros primos entre 0 y 70"
      ],
      "metadata": {
        "id": "e_jEUGgJoMyp"
      }
    },
    {
      "cell_type": "code",
      "source": [
        "def primos_hasta_70():\n",
        "    primos = {}\n",
        "    for num in range(2, 71):\n",
        "        es_primo = True\n",
        "        for i in range(2, int(num**0.5) + 1):\n",
        "            if num % i == 0:\n",
        "                es_primo = False\n",
        "                break\n",
        "        if es_primo:\n",
        "            primos[num] = num\n",
        "    return primos\n",
        "resultado = primos_hasta_70()\n",
        "print(\"Números primos entre 0 y 70:\", list(resultado.values()))"
      ],
      "metadata": {
        "colab": {
          "base_uri": "https://localhost:8080/"
        },
        "id": "koBXIBURoRfO",
        "outputId": "f91c85c7-d001-4cd9-e79a-f848007531ed"
      },
      "execution_count": 48,
      "outputs": [
        {
          "output_type": "stream",
          "name": "stdout",
          "text": [
            "Números primos entre 0 y 70: [2, 3, 5, 7, 11, 13, 17, 19, 23, 29, 31, 37, 41, 43, 47, 53, 59, 61, 67]\n"
          ]
        }
      ]
    }
  ]
}